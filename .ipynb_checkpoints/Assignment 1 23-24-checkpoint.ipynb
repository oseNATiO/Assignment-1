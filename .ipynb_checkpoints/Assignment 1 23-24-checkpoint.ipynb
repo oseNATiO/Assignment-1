{
 "cells": [
  {
   "cell_type": "markdown",
   "metadata": {
    "id": "JV5YbbVNlCLl"
   },
   "source": [
    "# Avanced Automation - Assignment 1\n",
    "\n",
    "To be delivered until 2023-12-10 23:59:59."
   ]
  },
  {
   "cell_type": "markdown",
   "metadata": {
    "id": "A746fsNRldR4"
   },
   "source": [
    "## Section 1 -- Linear Regression\n",
    "\n",
    "**1.** Consider a dataset with 100 observations, containing a single predictor and a quantitative response. Two different models are fitted to the data, a linear regression ($m_1: Y = \\beta_0 + \\beta_1 X + \\epsilon$) and a cubic regression ($m_2: Y = \\beta_0 + \\beta_1 X + \\beta_2 X^2 + \\beta_3 X^3 + \\epsilon$)."
   ]
  },
  {
   "cell_type": "markdown",
   "metadata": {
    "id": "gOuCfx3sm8hZ"
   },
   "source": [
    "**1.a)** Suppose that the actual relation between X and Y is linear. Can the **training** residual sum of squares (RSS) of the linear model be expected to be smaller, larger or equal to the one from the cubic model? Or is there no information to tell? Justify your answer."
   ]
  },
  {
   "cell_type": "markdown",
   "metadata": {
    "id": "h6V7QbAN6BIt"
   },
   "source": []
  },
  {
   "cell_type": "markdown",
   "metadata": {
    "id": "f-Z6e3nem88s"
   },
   "source": [
    "**1.b)** Answer question 1.a) considering the test RSS rather than the training RSS."
   ]
  },
  {
   "cell_type": "markdown",
   "metadata": {
    "id": "8Ng5yyIL7sUE"
   },
   "source": []
  },
  {
   "cell_type": "markdown",
   "metadata": {
    "id": "gmhX35ckm9St"
   },
   "source": [
    "**1.c)** Suppose that the actual relationship between X and Y is not linear, but it is not known how far it is from being linear. What is it expected of the the **training** RSS for the linear compared with the cubic models? Or is there not enough information? Justify your answer."
   ]
  },
  {
   "cell_type": "markdown",
   "metadata": {
    "id": "l3JRaXd28SUz"
   },
   "source": []
  },
  {
   "cell_type": "markdown",
   "metadata": {
    "id": "68b9Gt-Sm9lp"
   },
   "source": [
    "**1.d)** Answer question 1.c) considering the test RSS rather than the training RSS."
   ]
  },
  {
   "cell_type": "markdown",
   "metadata": {
    "id": "FWjI9xe36tk2"
   },
   "source": []
  },
  {
   "cell_type": "markdown",
   "metadata": {},
   "source": [
    "**2.** Consider now the Palmer Archipelago penguin data. It consists of physical measurements of male and female adult penguins from three species that live in three different islands of the Palmer Archipelago in Antarctica."
   ]
  },
  {
   "cell_type": "markdown",
   "metadata": {
    "id": "JlY6gihzHUm5"
   },
   "source": [
    "**2.a)** Load the dataset `penguins_size.csv`."
   ]
  },
  {
   "cell_type": "code",
   "execution_count": 2,
   "metadata": {
    "colab": {
     "base_uri": "https://localhost:8080/",
     "height": 204
    },
    "id": "UJxs-3Vp9IhJ",
    "outputId": "2992adcb-3e85-41e2-c12e-448d7381cbb1"
   },
   "outputs": [
    {
     "data": {
      "text/html": [
       "<div>\n",
       "<style scoped>\n",
       "    .dataframe tbody tr th:only-of-type {\n",
       "        vertical-align: middle;\n",
       "    }\n",
       "\n",
       "    .dataframe tbody tr th {\n",
       "        vertical-align: top;\n",
       "    }\n",
       "\n",
       "    .dataframe thead th {\n",
       "        text-align: right;\n",
       "    }\n",
       "</style>\n",
       "<table border=\"1\" class=\"dataframe\">\n",
       "  <thead>\n",
       "    <tr style=\"text-align: right;\">\n",
       "      <th></th>\n",
       "      <th>species</th>\n",
       "      <th>island</th>\n",
       "      <th>culmen_length_mm</th>\n",
       "      <th>culmen_depth_mm</th>\n",
       "      <th>flipper_length_mm</th>\n",
       "      <th>body_mass_g</th>\n",
       "      <th>sex</th>\n",
       "    </tr>\n",
       "  </thead>\n",
       "  <tbody>\n",
       "    <tr>\n",
       "      <th>0</th>\n",
       "      <td>Adelie</td>\n",
       "      <td>Torgersen</td>\n",
       "      <td>39.1</td>\n",
       "      <td>18.7</td>\n",
       "      <td>181.0</td>\n",
       "      <td>3750.0</td>\n",
       "      <td>MALE</td>\n",
       "    </tr>\n",
       "    <tr>\n",
       "      <th>1</th>\n",
       "      <td>Adelie</td>\n",
       "      <td>Torgersen</td>\n",
       "      <td>39.5</td>\n",
       "      <td>17.4</td>\n",
       "      <td>186.0</td>\n",
       "      <td>3800.0</td>\n",
       "      <td>FEMALE</td>\n",
       "    </tr>\n",
       "    <tr>\n",
       "      <th>2</th>\n",
       "      <td>Adelie</td>\n",
       "      <td>Torgersen</td>\n",
       "      <td>40.3</td>\n",
       "      <td>18.0</td>\n",
       "      <td>195.0</td>\n",
       "      <td>3250.0</td>\n",
       "      <td>FEMALE</td>\n",
       "    </tr>\n",
       "    <tr>\n",
       "      <th>3</th>\n",
       "      <td>Adelie</td>\n",
       "      <td>Torgersen</td>\n",
       "      <td>NaN</td>\n",
       "      <td>NaN</td>\n",
       "      <td>NaN</td>\n",
       "      <td>NaN</td>\n",
       "      <td>NaN</td>\n",
       "    </tr>\n",
       "    <tr>\n",
       "      <th>4</th>\n",
       "      <td>Adelie</td>\n",
       "      <td>Torgersen</td>\n",
       "      <td>36.7</td>\n",
       "      <td>19.3</td>\n",
       "      <td>193.0</td>\n",
       "      <td>3450.0</td>\n",
       "      <td>FEMALE</td>\n",
       "    </tr>\n",
       "  </tbody>\n",
       "</table>\n",
       "</div>"
      ],
      "text/plain": [
       "  species     island  culmen_length_mm  culmen_depth_mm  flipper_length_mm  \\\n",
       "0  Adelie  Torgersen              39.1             18.7              181.0   \n",
       "1  Adelie  Torgersen              39.5             17.4              186.0   \n",
       "2  Adelie  Torgersen              40.3             18.0              195.0   \n",
       "3  Adelie  Torgersen               NaN              NaN                NaN   \n",
       "4  Adelie  Torgersen              36.7             19.3              193.0   \n",
       "\n",
       "   body_mass_g     sex  \n",
       "0       3750.0    MALE  \n",
       "1       3800.0  FEMALE  \n",
       "2       3250.0  FEMALE  \n",
       "3          NaN     NaN  \n",
       "4       3450.0  FEMALE  "
      ]
     },
     "execution_count": 2,
     "metadata": {},
     "output_type": "execute_result"
    }
   ],
   "source": [
    "import numpy as np\n",
    "import pandas as pd\n",
    "import sklearn\n",
    "import matplotlib.pyplot as plt\n",
    "import seaborn as sns\n",
    "import scipy\n",
    "import os\n",
    "df = pd.read_csv(os.path.abspath('penguins_size.csv'))\n",
    "df.head()"
   ]
  },
  {
   "cell_type": "markdown",
   "metadata": {},
   "source": [
    "**2.b)** Discard any row that has a missing value."
   ]
  },
  {
   "cell_type": "code",
   "execution_count": 3,
   "metadata": {},
   "outputs": [],
   "source": [
    "df = df.dropna(axis=0)"
   ]
  },
  {
   "cell_type": "markdown",
   "metadata": {},
   "source": [
    "**2.c)** How many penguins of each `species` and `sex` live in each `island`? Answer this question with `pandas`."
   ]
  },
  {
   "cell_type": "code",
   "execution_count": 4,
   "metadata": {},
   "outputs": [
    {
     "name": "stdout",
     "output_type": "stream",
     "text": [
      "island     species    sex   \n",
      "Biscoe     Adelie     FEMALE    22\n",
      "                      MALE      22\n",
      "           Gentoo     FEMALE    58\n",
      "                      MALE      61\n",
      "Dream      Adelie     FEMALE    27\n",
      "                      MALE      28\n",
      "           Chinstrap  FEMALE    34\n",
      "                      MALE      34\n",
      "Torgersen  Adelie     FEMALE    24\n",
      "                      MALE      23\n",
      "Name: body_mass_g, dtype: int64\n"
     ]
    }
   ],
   "source": [
    "df2 = df.iloc[:,[0,1,5,6]]\n",
    "print(df2.groupby(['island','species','sex'])['body_mass_g'].count())"
   ]
  },
  {
   "cell_type": "markdown",
   "metadata": {},
   "source": [
    "**2.d)** Plot a correlation matrix of the numerical columns (with a statistical significance of 0.1%)."
   ]
  },
  {
   "cell_type": "code",
   "execution_count": 5,
   "metadata": {},
   "outputs": [
    {
     "data": {
      "image/png": "[encoded data removed]",
      "text/plain": [
       "<Figure size 1080x1080 with 2 Axes>"
      ]
     },
     "metadata": {
      "needs_background": "light"
     },
     "output_type": "display_data"
    }
   ],
   "source": [
    "from scipy.stats import pearsonr\n",
    "df_corrs = df.corr(method='pearson')\n",
    "pval = df.corr(method=lambda x, y: pearsonr(x, y)[1])\n",
    "ptg_stat_sig = 0.1/100\n",
    "mask = pval > ptg_stat_sig\n",
    "plt.subplots(figsize=(15, 15))\n",
    "heatmap = sns.heatmap(df_corrs, mask = mask, square = True, cmap = 'coolwarm', annot = True)"
   ]
  },
  {
   "cell_type": "markdown",
   "metadata": {
    "id": "BM90R_i8OCik"
   },
   "source": [
    "**2.e)** Perform a simple linear regression considering `body_mass_g` as the response and `flipper_length_mm` as the predictor. Print the obtained model and the $R^2$. Explain why this is a good choice of predictor.\n"
   ]
  },
  {
   "cell_type": "code",
   "execution_count": 11,
   "metadata": {
    "colab": {
     "base_uri": "https://localhost:8080/"
    },
    "id": "teI35X_p9TAM",
    "outputId": "067cea09-dfc5-4b69-ecda-a034e962e41b"
   },
   "outputs": [
    {
     "name": "stdout",
     "output_type": "stream",
     "text": [
      "body_mass_g = -5872.0927 + 50.1533 * flipper_length_mm \n",
      "R^2: 0.7621\n"
     ]
    }
   ],
   "source": [
    "from sklearn.linear_model import LinearRegression\n",
    "from sklearn.metrics import r2_score\n",
    "\n",
    "X = df['flipper_length_mm'].values.reshape(-1, 1)\n",
    "y = df['body_mass_g'].values.reshape(-1, 1)\n",
    "regr = LinearRegression()\n",
    "regr.fit(X, y)\n",
    "\n",
    "print('body_mass_g = {:.4f} + {:.4f} * flipper_length_mm '.format(regr.intercept_[0], regr.coef_[0][0]))\n",
    "medv_pred = regr.predict(X)\n",
    "r2_value = r2_score(y, medv_pred)\n",
    "print('R^2: {:.4f}'.format(r2_value))"
   ]
  },
  {
   "cell_type": "markdown",
   "metadata": {
    "id": "yRYL0_TeQQfp"
   },
   "source": [
    "**2.f)** Plot a scatter plot of the response and predictor, along with the regression line."
   ]
  },
  {
   "cell_type": "code",
   "execution_count": 10,
   "metadata": {
    "colab": {
     "base_uri": "https://localhost:8080/",
     "height": 388
    },
    "id": "S7QpN6n1APVa",
    "outputId": "fd5339b9-82ac-4d9c-9fae-c6b75a5b6b4c"
   },
   "outputs": [
    {
     "data": {
      "image/png": "[encoded data removed]",
      "text/plain": [
       "<Figure size 1080x432 with 1 Axes>"
      ]
     },
     "metadata": {
      "needs_background": "light"
     },
     "output_type": "display_data"
    }
   ],
   "source": [
    "limits_flipper_length_mm = np.array([min(X), max(X)])\n",
    "body_mass_g_vals = regr.intercept_[0] + regr.coef_[0][0]*limits_flipper_length_mm\n",
    "plt.rcParams['figure.figsize'] = [15, 6]\n",
    "plt.plot(df['flipper_length_mm'], df['body_mass_g'], '.r')\n",
    "plt.plot(limits_flipper_length_mm ,body_mass_g_vals, 'b-')\n",
    "plt.show()"
   ]
  },
  {
   "cell_type": "markdown",
   "metadata": {},
   "source": [
    "**2.g)** A baby penguin has a flipper length of around 50 mm. What is the predicted value of the body mass of a baby penguin? Comment on the prediction of the model."
   ]
  },
  {
   "cell_type": "code",
   "execution_count": null,
   "metadata": {},
   "outputs": [],
   "source": []
  },
  {
   "cell_type": "markdown",
   "metadata": {},
   "source": [
    "**2.h)** Perform a multiple linear regression considering `body_mass_g` as the response and using all numerical predictors. Compare the $R^2$ of the simple linear regression model and the multiple linear regression model."
   ]
  },
  {
   "cell_type": "code",
   "execution_count": 14,
   "metadata": {},
   "outputs": [
    {
     "name": "stdout",
     "output_type": "stream",
     "text": [
      "body_mass_g = -6445.4760 + 3.2929 * culmen_length_mm + 17.8364 * culmen_depth_mm + 50.7621 * flipper_length_mm\n",
      "R^2: 0.7639\n"
     ]
    }
   ],
   "source": [
    "cols = ['culmen_length_mm', 'culmen_depth_mm','flipper_length_mm']\n",
    "X = df[cols].values\n",
    "y = df['body_mass_g'].values.reshape(-1, 1)\n",
    "\n",
    "regr = LinearRegression()\n",
    "regr.fit(X,y)\n",
    "\n",
    "\n",
    "print('body_mass_g = {:.4f} + {:.4f} * culmen_length_mm + {:.4f} * culmen_depth_mm + {:.4f} * flipper_length_mm'.format(regr.intercept_[0], regr.coef_[0][0], regr.coef_[0][1],regr.coef_[0][2]))\n",
    "\n",
    "\n",
    "body_mass_g_pred = regr.predict(X)\n",
    "r2_value = r2_score(y, body_mass_g_pred)\n",
    "print('R^2: {:.4f}'.format(r2_value))\n",
    "\n",
    "\n",
    "\n",
    "\n"
   ]
  },
  {
   "cell_type": "markdown",
   "metadata": {},
   "source": [
    "**2.g)** Perform a multiple  linear regression considering `body_mass_g` as the response and using all predictors. Comment on the $R^2$ of this model."
   ]
  },
  {
   "cell_type": "code",
   "execution_count": 15,
   "metadata": {},
   "outputs": [
    {
     "ename": "ValueError",
     "evalue": "Boolean array expected for the condition, not object",
     "output_type": "error",
     "traceback": [
      "\u001b[1;31m---------------------------------------------------------------------------\u001b[0m",
      "\u001b[1;31mValueError\u001b[0m                                Traceback (most recent call last)",
      "\u001b[1;32m<ipython-input-15-ca5a57822a90>\u001b[0m in \u001b[0;36m<module>\u001b[1;34m\u001b[0m\n\u001b[0;32m      1\u001b[0m \u001b[0mX_df\u001b[0m \u001b[1;33m=\u001b[0m \u001b[0mdf\u001b[0m\u001b[1;33m.\u001b[0m\u001b[0mdrop\u001b[0m\u001b[1;33m(\u001b[0m\u001b[0mcolumns\u001b[0m \u001b[1;33m=\u001b[0m \u001b[1;34m'body_mass_g'\u001b[0m\u001b[1;33m)\u001b[0m\u001b[1;33m\u001b[0m\u001b[1;33m\u001b[0m\u001b[0m\n\u001b[1;32m----> 2\u001b[1;33m \u001b[0mX\u001b[0m \u001b[1;33m=\u001b[0m \u001b[0mdf\u001b[0m\u001b[1;33m[\u001b[0m\u001b[0mX_df\u001b[0m\u001b[1;33m]\u001b[0m\u001b[1;33m.\u001b[0m\u001b[0mvalues\u001b[0m\u001b[1;33m\u001b[0m\u001b[1;33m\u001b[0m\u001b[0m\n\u001b[0m\u001b[0;32m      3\u001b[0m \u001b[0my\u001b[0m \u001b[1;33m=\u001b[0m \u001b[0mdf\u001b[0m\u001b[1;33m[\u001b[0m\u001b[1;34m'body_mass_g'\u001b[0m\u001b[1;33m]\u001b[0m\u001b[1;33m.\u001b[0m\u001b[0mvalues\u001b[0m\u001b[1;33m.\u001b[0m\u001b[0mreshape\u001b[0m\u001b[1;33m(\u001b[0m\u001b[1;33m-\u001b[0m\u001b[1;36m1\u001b[0m\u001b[1;33m,\u001b[0m \u001b[1;36m1\u001b[0m\u001b[1;33m)\u001b[0m\u001b[1;33m\u001b[0m\u001b[1;33m\u001b[0m\u001b[0m\n\u001b[0;32m      4\u001b[0m \u001b[1;33m\u001b[0m\u001b[0m\n\u001b[0;32m      5\u001b[0m \u001b[0mregr\u001b[0m \u001b[1;33m=\u001b[0m \u001b[0mLinearRegression\u001b[0m\u001b[1;33m(\u001b[0m\u001b[1;33m)\u001b[0m\u001b[1;33m\u001b[0m\u001b[1;33m\u001b[0m\u001b[0m\n",
      "\u001b[1;32m~\\anaconda3\\lib\\site-packages\\pandas\\core\\frame.py\u001b[0m in \u001b[0;36m__getitem__\u001b[1;34m(self, key)\u001b[0m\n\u001b[0;32m   2785\u001b[0m         \u001b[1;31m# Do we have a (boolean) DataFrame?\u001b[0m\u001b[1;33m\u001b[0m\u001b[1;33m\u001b[0m\u001b[1;33m\u001b[0m\u001b[0m\n\u001b[0;32m   2786\u001b[0m         \u001b[1;32mif\u001b[0m \u001b[0misinstance\u001b[0m\u001b[1;33m(\u001b[0m\u001b[0mkey\u001b[0m\u001b[1;33m,\u001b[0m \u001b[0mDataFrame\u001b[0m\u001b[1;33m)\u001b[0m\u001b[1;33m:\u001b[0m\u001b[1;33m\u001b[0m\u001b[1;33m\u001b[0m\u001b[0m\n\u001b[1;32m-> 2787\u001b[1;33m             \u001b[1;32mreturn\u001b[0m \u001b[0mself\u001b[0m\u001b[1;33m.\u001b[0m\u001b[0mwhere\u001b[0m\u001b[1;33m(\u001b[0m\u001b[0mkey\u001b[0m\u001b[1;33m)\u001b[0m\u001b[1;33m\u001b[0m\u001b[1;33m\u001b[0m\u001b[0m\n\u001b[0m\u001b[0;32m   2788\u001b[0m \u001b[1;33m\u001b[0m\u001b[0m\n\u001b[0;32m   2789\u001b[0m         \u001b[1;31m# Do we have a (boolean) 1d indexer?\u001b[0m\u001b[1;33m\u001b[0m\u001b[1;33m\u001b[0m\u001b[1;33m\u001b[0m\u001b[0m\n",
      "\u001b[1;32m~\\anaconda3\\lib\\site-packages\\pandas\\core\\generic.py\u001b[0m in \u001b[0;36mwhere\u001b[1;34m(self, cond, other, inplace, axis, level, errors, try_cast)\u001b[0m\n\u001b[0;32m   8916\u001b[0m \u001b[1;33m\u001b[0m\u001b[0m\n\u001b[0;32m   8917\u001b[0m         \u001b[0mother\u001b[0m \u001b[1;33m=\u001b[0m \u001b[0mcom\u001b[0m\u001b[1;33m.\u001b[0m\u001b[0mapply_if_callable\u001b[0m\u001b[1;33m(\u001b[0m\u001b[0mother\u001b[0m\u001b[1;33m,\u001b[0m \u001b[0mself\u001b[0m\u001b[1;33m)\u001b[0m\u001b[1;33m\u001b[0m\u001b[1;33m\u001b[0m\u001b[0m\n\u001b[1;32m-> 8918\u001b[1;33m         return self._where(\n\u001b[0m\u001b[0;32m   8919\u001b[0m             \u001b[0mcond\u001b[0m\u001b[1;33m,\u001b[0m \u001b[0mother\u001b[0m\u001b[1;33m,\u001b[0m \u001b[0minplace\u001b[0m\u001b[1;33m,\u001b[0m \u001b[0maxis\u001b[0m\u001b[1;33m,\u001b[0m \u001b[0mlevel\u001b[0m\u001b[1;33m,\u001b[0m \u001b[0merrors\u001b[0m\u001b[1;33m=\u001b[0m\u001b[0merrors\u001b[0m\u001b[1;33m,\u001b[0m \u001b[0mtry_cast\u001b[0m\u001b[1;33m=\u001b[0m\u001b[0mtry_cast\u001b[0m\u001b[1;33m\u001b[0m\u001b[1;33m\u001b[0m\u001b[0m\n\u001b[0;32m   8920\u001b[0m         )\n",
      "\u001b[1;32m~\\anaconda3\\lib\\site-packages\\pandas\\core\\generic.py\u001b[0m in \u001b[0;36m_where\u001b[1;34m(self, cond, other, inplace, axis, level, errors, try_cast)\u001b[0m\n\u001b[0;32m   8675\u001b[0m             \u001b[1;32mfor\u001b[0m \u001b[0mdt\u001b[0m \u001b[1;32min\u001b[0m \u001b[0mcond\u001b[0m\u001b[1;33m.\u001b[0m\u001b[0mdtypes\u001b[0m\u001b[1;33m:\u001b[0m\u001b[1;33m\u001b[0m\u001b[1;33m\u001b[0m\u001b[0m\n\u001b[0;32m   8676\u001b[0m                 \u001b[1;32mif\u001b[0m \u001b[1;32mnot\u001b[0m \u001b[0mis_bool_dtype\u001b[0m\u001b[1;33m(\u001b[0m\u001b[0mdt\u001b[0m\u001b[1;33m)\u001b[0m\u001b[1;33m:\u001b[0m\u001b[1;33m\u001b[0m\u001b[1;33m\u001b[0m\u001b[0m\n\u001b[1;32m-> 8677\u001b[1;33m                     \u001b[1;32mraise\u001b[0m \u001b[0mValueError\u001b[0m\u001b[1;33m(\u001b[0m\u001b[0mmsg\u001b[0m\u001b[1;33m.\u001b[0m\u001b[0mformat\u001b[0m\u001b[1;33m(\u001b[0m\u001b[0mdtype\u001b[0m\u001b[1;33m=\u001b[0m\u001b[0mdt\u001b[0m\u001b[1;33m)\u001b[0m\u001b[1;33m)\u001b[0m\u001b[1;33m\u001b[0m\u001b[1;33m\u001b[0m\u001b[0m\n\u001b[0m\u001b[0;32m   8678\u001b[0m \u001b[1;33m\u001b[0m\u001b[0m\n\u001b[0;32m   8679\u001b[0m         \u001b[0mcond\u001b[0m \u001b[1;33m=\u001b[0m \u001b[1;33m-\u001b[0m\u001b[0mcond\u001b[0m \u001b[1;32mif\u001b[0m \u001b[0minplace\u001b[0m \u001b[1;32melse\u001b[0m \u001b[0mcond\u001b[0m\u001b[1;33m\u001b[0m\u001b[1;33m\u001b[0m\u001b[0m\n",
      "\u001b[1;31mValueError\u001b[0m: Boolean array expected for the condition, not object"
     ]
    }
   ],
   "source": [
    "X_df = df.drop(columns = 'body_mass_g')\n",
    "X = df[X_df].values\n",
    "y = df['body_mass_g'].values.reshape(-1, 1)\n",
    "\n",
    "regr = LinearRegression()\n",
    "regr.fit(X,y)\n",
    "\n",
    "body_mass_g_pred = regr.predict(X)\n",
    "r2_value = r2_score(y, body_mass_g_pred)\n"
   ]
  },
  {
   "cell_type": "markdown",
   "metadata": {
    "id": "1xBHkVadQ5Ot"
   },
   "source": [
    "## Section 2 -- Classification"
   ]
  },
  {
   "cell_type": "markdown",
   "metadata": {
    "id": "SIpGTVYkRD9A"
   },
   "source": [
    "**3)** Suppose that a dataset is divided into two equally-sized training and test sets, and then try out two different classification procedures:\n",
    "\n",
    "* The first is the logistic regression, obtaining an error rate of 20% on the training data and 30% on the test data.\n",
    "* The second is a 1-nearest neighbors, with an average error rate (averaged over test and training datasets) of 18%.\n",
    "\n",
    "Based on these results, which method is preferred for classifying new observations? Why?"
   ]
  },
  {
   "cell_type": "markdown",
   "metadata": {
    "id": "4oPohcizBV3J"
   },
   "source": []
  },
  {
   "cell_type": "markdown",
   "metadata": {
    "id": "z0Ws08q_SVLO"
   },
   "source": [
    "**4.a)** Consider again the penguins dataset. However, the objective now is to predict the `sex` of the penguin based on the other variables. Split the data into test and training datasets. Consider a test dataset comprised of 30% of the whole dataset."
   ]
  },
  {
   "cell_type": "code",
   "execution_count": null,
   "metadata": {
    "id": "Zmk2OAC3w-W6"
   },
   "outputs": [],
   "source": []
  },
  {
   "cell_type": "markdown",
   "metadata": {
    "id": "IWepa-QISjbZ"
   },
   "source": [
    "**4.b)** Perform LDA on the training data in order to predict `sex` using the remaining variables. What is the test error of the model obtained?"
   ]
  },
  {
   "cell_type": "code",
   "execution_count": null,
   "metadata": {
    "colab": {
     "base_uri": "https://localhost:8080/"
    },
    "id": "bQquLCRDyizP",
    "outputId": "1d2e2b4c-b73a-4d4a-e2a4-76c384ffd570"
   },
   "outputs": [],
   "source": []
  },
  {
   "cell_type": "markdown",
   "metadata": {
    "id": "YWiMguFvSjWE"
   },
   "source": [
    "**4.c)** Perform QDA on the training data in order to predict `sex` using the remaining variables. What is the test error of the model obtained?"
   ]
  },
  {
   "cell_type": "code",
   "execution_count": null,
   "metadata": {
    "colab": {
     "base_uri": "https://localhost:8080/"
    },
    "id": "bvzDUm5sze_l",
    "outputId": "551d1323-9c00-4475-aeaa-fa73eb7d0f50"
   },
   "outputs": [],
   "source": []
  },
  {
   "cell_type": "markdown",
   "metadata": {
    "id": "DFAhEuhSSjOz"
   },
   "source": [
    "**4.d)** Perform logistic regression on the training data in order to predict `sex` using the remaining variables. What is the test error of the model obtained?"
   ]
  },
  {
   "cell_type": "code",
   "execution_count": null,
   "metadata": {
    "colab": {
     "base_uri": "https://localhost:8080/"
    },
    "id": "7oVkI9QUzufY",
    "outputId": "13b0d3c3-ec1f-48d1-e68d-06f65b043b48"
   },
   "outputs": [],
   "source": []
  },
  {
   "cell_type": "markdown",
   "metadata": {
    "id": "dJUvW41ViqMc"
   },
   "source": [
    "**4.e)** Perform naive Bayes on the training data in order to predict `sex` using the remaining variables. What is the test error of the model obtained?"
   ]
  },
  {
   "cell_type": "code",
   "execution_count": null,
   "metadata": {
    "colab": {
     "base_uri": "https://localhost:8080/"
    },
    "id": "U6pzjPGc1y_t",
    "outputId": "06706c5a-8a45-4621-ebd2-83dae40d27ac"
   },
   "outputs": [],
   "source": []
  },
  {
   "cell_type": "markdown",
   "metadata": {
    "id": "tPRBsCLviqKm"
   },
   "source": [
    "**4.f)** Perform KNN on the training data, with several values of K, in order to predict `sex`. What test errors are obtained? Which value of K seems to perform the best on this data set?"
   ]
  },
  {
   "cell_type": "code",
   "execution_count": null,
   "metadata": {
    "colab": {
     "base_uri": "https://localhost:8080/",
     "height": 641
    },
    "id": "KCXGQmN52G7W",
    "outputId": "2acad9b9-7f01-40bb-de3a-e8e1b08b25b7"
   },
   "outputs": [],
   "source": []
  },
  {
   "cell_type": "markdown",
   "metadata": {
    "id": "nvhamoK0i2WZ"
   },
   "source": [
    "**4.g)** Plot the ROC curve and calculate the area under curve (AUC) for the LDA, QDA, logistic regression, naive Bayes and for the best value of K for the KNN method. Compare the results."
   ]
  },
  {
   "cell_type": "code",
   "execution_count": null,
   "metadata": {
    "colab": {
     "base_uri": "https://localhost:8080/",
     "height": 388
    },
    "id": "iNXZovNn8Wlv",
    "outputId": "a16a5b29-226c-437d-e2ec-5a34ee33fca2"
   },
   "outputs": [],
   "source": []
  },
  {
   "cell_type": "markdown",
   "metadata": {
    "id": "jEtBKnHni2GT"
   },
   "source": [
    "## Section 3 -- Bootstrap and k-Fold"
   ]
  },
  {
   "cell_type": "markdown",
   "metadata": {
    "id": "AyCSRMx2pDsm"
   },
   "source": [
    "**5.a)** Explain how k-fold cross-validation is implemented."
   ]
  },
  {
   "cell_type": "markdown",
   "metadata": {
    "id": "Bh8t6HC49HIl"
   },
   "source": []
  },
  {
   "cell_type": "markdown",
   "metadata": {
    "id": "MbIethdmpcwr"
   },
   "source": [
    "**5.b)** What are the advantages and disadvantages of k-Fold cross-validation relative to:\n",
    "\n",
    "1. Validation set approach.\n",
    "2. Leave One Out Cross-Validation (LOOCV)."
   ]
  },
  {
   "cell_type": "markdown",
   "metadata": {
    "id": "F_U7i3m1MYWh"
   },
   "source": []
  },
  {
   "cell_type": "markdown",
   "metadata": {
    "id": "jOcCUxFMpAGw"
   },
   "source": [
    "## Section 4 -- Other Questions"
   ]
  },
  {
   "cell_type": "markdown",
   "metadata": {
    "id": "jUkJU0D7pFWO"
   },
   "source": [
    "**6)** In your group's option, what are the advantages and disadvantages of using a virtual environment when programming in Python?"
   ]
  },
  {
   "cell_type": "markdown",
   "metadata": {
    "id": "4gyfaAIi9KVM"
   },
   "source": []
  },
  {
   "cell_type": "markdown",
   "metadata": {
    "id": "W8dWu7BXpFTc"
   },
   "source": [
    "**7)** In your group's opinion, in what circumstances is it better to use Jupyter Notebooks and when is it better to use Google Colab notebooks? Give some specific examples."
   ]
  },
  {
   "cell_type": "markdown",
   "metadata": {
    "id": "rtVRKNrS9vYB"
   },
   "source": []
  },
  {
   "cell_type": "markdown",
   "metadata": {
    "id": "Sl0krfG6pFH6"
   },
   "source": [
    "**8)** Enter your GitHub repository webpage."
   ]
  },
  {
   "cell_type": "code",
   "execution_count": null,
   "metadata": {},
   "outputs": [],
   "source": []
  }
 ],
 "metadata": {
  "colab": {
   "collapsed_sections": [],
   "name": "Lab2_assignment_solved.ipynb",
   "provenance": []
  },
  "kernelspec": {
   "display_name": "Python 3.9.1rc1 64-bit",
   "language": "python",
   "name": "python3"
  },
  "language_info": {
   "codemirror_mode": {
    "name": "ipython",
    "version": 3
   },
   "file_extension": ".py",
   "mimetype": "text/x-python",
   "name": "python",
   "nbconvert_exporter": "python",
   "pygments_lexer": "ipython3",
   "version": "3.9.1rc1"
  },
  "vscode": {
   "interpreter": {
    "hash": "98b9776bb1c906ffea5885633daef92fdfff9bdc53a036d784e355cfb10fec4f"
   }
  },
  "widgets": {
   "application/vnd.jupyter.widget-state+json": {
    "state": {},
    "version_major": 2,
    "version_minor": 0
   }
  }
 },
 "nbformat": 4,
 "nbformat_minor": 4
}

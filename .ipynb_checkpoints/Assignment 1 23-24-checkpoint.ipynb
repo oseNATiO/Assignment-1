{
 "cells": [
  {
   "cell_type": "markdown",
   "metadata": {
    "id": "JV5YbbVNlCLl"
   },
   "source": [
    "# Avanced Automation - Assignment 1\n",
    "\n",
    "To be delivered until 2023-12-10 23:59:59."
   ]
  },
  {
   "cell_type": "markdown",
   "metadata": {
    "id": "A746fsNRldR4"
   },
   "source": [
    "## Section 1 -- Linear Regression\n",
    "\n",
    "**1.** Consider a dataset with 100 observations, containing a single predictor and a quantitative response. Two different models are fitted to the data, a linear regression ($m_1: Y = \\beta_0 + \\beta_1 X + \\epsilon$) and a cubic regression ($m_2: Y = \\beta_0 + \\beta_1 X + \\beta_2 X^2 + \\beta_3 X^3 + \\epsilon$)."
   ]
  },
  {
   "cell_type": "markdown",
   "metadata": {
    "id": "gOuCfx3sm8hZ"
   },
   "source": [
    "**1.a)** Suppose that the actual relation between X and Y is linear. Can the **training** residual sum of squares (RSS) of the linear model be expected to be smaller, larger or equal to the one from the cubic model? Or is there no information to tell? Justify your answer."
   ]
  },
  {
   "cell_type": "markdown",
   "metadata": {
    "id": "h6V7QbAN6BIt"
   },
   "source": []
  },
  {
   "cell_type": "markdown",
   "metadata": {
    "id": "f-Z6e3nem88s"
   },
   "source": [
    "**1.b)** Answer question 1.a) considering the test RSS rather than the training RSS."
   ]
  },
  {
   "cell_type": "markdown",
   "metadata": {
    "id": "8Ng5yyIL7sUE"
   },
   "source": []
  },
  {
   "cell_type": "markdown",
   "metadata": {
    "id": "gmhX35ckm9St"
   },
   "source": [
    "**1.c)** Suppose that the actual relationship between X and Y is not linear, but it is not known how far it is from being linear. What is it expected of the the **training** RSS for the linear compared with the cubic models? Or is there not enough information? Justify your answer."
   ]
  },
  {
   "cell_type": "markdown",
   "metadata": {
    "id": "l3JRaXd28SUz"
   },
   "source": []
  },
  {
   "cell_type": "markdown",
   "metadata": {
    "id": "68b9Gt-Sm9lp"
   },
   "source": [
    "**1.d)** Answer question 1.c) considering the test RSS rather than the training RSS."
   ]
  },
  {
   "cell_type": "markdown",
   "metadata": {
    "id": "FWjI9xe36tk2"
   },
   "source": []
  },
  {
   "cell_type": "markdown",
   "metadata": {},
   "source": [
    "**2.** Consider now the Palmer Archipelago penguin data. It consists of physical measurements of male and female adult penguins from three species that live in three different islands of the Palmer Archipelago in Antarctica."
   ]
  },
  {
   "cell_type": "markdown",
   "metadata": {
    "id": "JlY6gihzHUm5"
   },
   "source": [
    "**2.a)** Load the dataset `penguins_size.csv`."
   ]
  },
  {
   "cell_type": "code",
   "execution_count": 46,
   "metadata": {
    "colab": {
     "base_uri": "https://localhost:8080/",
     "height": 204
    },
    "id": "UJxs-3Vp9IhJ",
    "outputId": "2992adcb-3e85-41e2-c12e-448d7381cbb1"
   },
   "outputs": [
    {
     "data": {
      "text/html": [
       "<div>\n",
       "<style scoped>\n",
       "    .dataframe tbody tr th:only-of-type {\n",
       "        vertical-align: middle;\n",
       "    }\n",
       "\n",
       "    .dataframe tbody tr th {\n",
       "        vertical-align: top;\n",
       "    }\n",
       "\n",
       "    .dataframe thead th {\n",
       "        text-align: right;\n",
       "    }\n",
       "</style>\n",
       "<table border=\"1\" class=\"dataframe\">\n",
       "  <thead>\n",
       "    <tr style=\"text-align: right;\">\n",
       "      <th></th>\n",
       "      <th>species</th>\n",
       "      <th>island</th>\n",
       "      <th>culmen_length_mm</th>\n",
       "      <th>culmen_depth_mm</th>\n",
       "      <th>flipper_length_mm</th>\n",
       "      <th>body_mass_g</th>\n",
       "      <th>sex</th>\n",
       "    </tr>\n",
       "  </thead>\n",
       "  <tbody>\n",
       "    <tr>\n",
       "      <th>0</th>\n",
       "      <td>Adelie</td>\n",
       "      <td>Torgersen</td>\n",
       "      <td>39.1</td>\n",
       "      <td>18.7</td>\n",
       "      <td>181.0</td>\n",
       "      <td>3750.0</td>\n",
       "      <td>MALE</td>\n",
       "    </tr>\n",
       "    <tr>\n",
       "      <th>1</th>\n",
       "      <td>Adelie</td>\n",
       "      <td>Torgersen</td>\n",
       "      <td>39.5</td>\n",
       "      <td>17.4</td>\n",
       "      <td>186.0</td>\n",
       "      <td>3800.0</td>\n",
       "      <td>FEMALE</td>\n",
       "    </tr>\n",
       "    <tr>\n",
       "      <th>2</th>\n",
       "      <td>Adelie</td>\n",
       "      <td>Torgersen</td>\n",
       "      <td>40.3</td>\n",
       "      <td>18.0</td>\n",
       "      <td>195.0</td>\n",
       "      <td>3250.0</td>\n",
       "      <td>FEMALE</td>\n",
       "    </tr>\n",
       "    <tr>\n",
       "      <th>3</th>\n",
       "      <td>Adelie</td>\n",
       "      <td>Torgersen</td>\n",
       "      <td>NaN</td>\n",
       "      <td>NaN</td>\n",
       "      <td>NaN</td>\n",
       "      <td>NaN</td>\n",
       "      <td>NaN</td>\n",
       "    </tr>\n",
       "    <tr>\n",
       "      <th>4</th>\n",
       "      <td>Adelie</td>\n",
       "      <td>Torgersen</td>\n",
       "      <td>36.7</td>\n",
       "      <td>19.3</td>\n",
       "      <td>193.0</td>\n",
       "      <td>3450.0</td>\n",
       "      <td>FEMALE</td>\n",
       "    </tr>\n",
       "  </tbody>\n",
       "</table>\n",
       "</div>"
      ],
      "text/plain": [
       "  species     island  culmen_length_mm  culmen_depth_mm  flipper_length_mm  \\\n",
       "0  Adelie  Torgersen              39.1             18.7              181.0   \n",
       "1  Adelie  Torgersen              39.5             17.4              186.0   \n",
       "2  Adelie  Torgersen              40.3             18.0              195.0   \n",
       "3  Adelie  Torgersen               NaN              NaN                NaN   \n",
       "4  Adelie  Torgersen              36.7             19.3              193.0   \n",
       "\n",
       "   body_mass_g     sex  \n",
       "0       3750.0    MALE  \n",
       "1       3800.0  FEMALE  \n",
       "2       3250.0  FEMALE  \n",
       "3          NaN     NaN  \n",
       "4       3450.0  FEMALE  "
      ]
     },
     "execution_count": 46,
     "metadata": {},
     "output_type": "execute_result"
    }
   ],
   "source": [
    "import numpy as np\n",
    "import pandas as pd\n",
    "import sklearn\n",
    "import matplotlib.pyplot as plt\n",
    "import seaborn as sns\n",
    "import scipy\n",
    "import os\n",
    "df = pd.read_csv(os.path.abspath('penguins_size.csv'))\n",
    "df.head()"
   ]
  },
  {
   "cell_type": "markdown",
   "metadata": {},
   "source": [
    "#### **2.b)** Discard any row that has a missing value."
   ]
  },
  {
   "cell_type": "code",
   "execution_count": 47,
   "metadata": {},
   "outputs": [],
   "source": [
    "df = df.dropna(axis=0)"
   ]
  },
  {
   "cell_type": "markdown",
   "metadata": {},
   "source": [
    "**2.c)** How many penguins of each `species` and `sex` live in each `island`? Answer this question with `pandas`."
   ]
  },
  {
   "cell_type": "code",
   "execution_count": 48,
   "metadata": {},
   "outputs": [
    {
     "name": "stdout",
     "output_type": "stream",
     "text": [
      "island     species    sex   \n",
      "Biscoe     Adelie     FEMALE    22\n",
      "                      MALE      22\n",
      "           Gentoo     FEMALE    58\n",
      "                      MALE      61\n",
      "Dream      Adelie     FEMALE    27\n",
      "                      MALE      28\n",
      "           Chinstrap  FEMALE    34\n",
      "                      MALE      34\n",
      "Torgersen  Adelie     FEMALE    24\n",
      "                      MALE      23\n",
      "Name: body_mass_g, dtype: int64\n"
     ]
    }
   ],
   "source": [
    "df2 = df.iloc[:,[0,1,5,6]]\n",
    "print(df2.groupby(['island','species','sex'])['body_mass_g'].count())"
   ]
  },
  {
   "cell_type": "markdown",
   "metadata": {},
   "source": [
    "**2.d)** Plot a correlation matrix of the numerical columns (with a statistical significance of 0.1%)."
   ]
  },
  {
   "cell_type": "code",
   "execution_count": 49,
   "metadata": {},
   "outputs": [
    {
     "data": {
      "image/png": "[encoded data removed]",
      "text/plain": [
       "<Figure size 1500x1500 with 2 Axes>"
      ]
     },
     "metadata": {},
     "output_type": "display_data"
    }
   ],
   "source": [
    "from scipy.stats import pearsonr\n",
    "df_corrs = df.corr(numeric_only=True, method='pearson')\n",
    "pval = df.corr(numeric_only=True, method=lambda x, y: pearsonr(x, y)[1])\n",
    "ptg_stat_sig = 0.1/100\n",
    "mask = pval > ptg_stat_sig\n",
    "plt.subplots(figsize=(15, 15))\n",
    "heatmap = sns.heatmap(df_corrs, mask = mask, square = True, cmap = 'coolwarm', annot = True)"
   ]
  },
  {
   "cell_type": "markdown",
   "metadata": {
    "id": "BM90R_i8OCik"
   },
   "source": [
    "**2.e)** Perform a simple linear regression considering `body_mass_g` as the response and `flipper_length_mm` as the predictor. Print the obtained model and the $R^2$. Explain why this is a good choice of predictor.\n"
   ]
  },
  {
   "cell_type": "code",
   "execution_count": 50,
   "metadata": {
    "colab": {
     "base_uri": "https://localhost:8080/"
    },
    "id": "teI35X_p9TAM",
    "outputId": "067cea09-dfc5-4b69-ecda-a034e962e41b"
   },
   "outputs": [
    {
     "name": "stdout",
     "output_type": "stream",
     "text": [
      "body_mass_g = -5872.0927 + 50.1533 * flipper_length_mm \n",
      "R^2: 0.7621\n"
     ]
    }
   ],
   "source": [
    "from sklearn.linear_model import LinearRegression\n",
    "from sklearn.metrics import r2_score\n",
    "\n",
    "X = df['flipper_length_mm'].values.reshape(-1, 1)\n",
    "y = df['body_mass_g'].values.reshape(-1, 1)\n",
    "regr = LinearRegression()\n",
    "regr.fit(X, y)\n",
    "\n",
    "print('body_mass_g = {:.4f} + {:.4f} * flipper_length_mm '.format(regr.intercept_[0], regr.coef_[0][0]))\n",
    "medv_pred = regr.predict(X)\n",
    "r2_value = r2_score(y, medv_pred)\n",
    "print('R^2: {:.4f}'.format(r2_value))"
   ]
  },
  {
   "cell_type": "markdown",
   "metadata": {
    "id": "yRYL0_TeQQfp"
   },
   "source": [
    "**2.f)** Plot a scatter plot of the response and predictor, along with the regression line."
   ]
  },
  {
   "cell_type": "code",
   "execution_count": 51,
   "metadata": {
    "colab": {
     "base_uri": "https://localhost:8080/",
     "height": 388
    },
    "id": "S7QpN6n1APVa",
    "outputId": "fd5339b9-82ac-4d9c-9fae-c6b75a5b6b4c"
   },
   "outputs": [
    {
     "data": {
      "image/png": "[encoded data removed]",
      "text/plain": [
       "<Figure size 1500x600 with 1 Axes>"
      ]
     },
     "metadata": {},
     "output_type": "display_data"
    }
   ],
   "source": [
    "limits_flipper_length_mm = np.array([min(X), max(X)])\n",
    "body_mass_g_vals = regr.intercept_[0] + regr.coef_[0][0]*limits_flipper_length_mm\n",
    "plt.rcParams['figure.figsize'] = [15, 6]\n",
    "plt.plot(df['flipper_length_mm'], df['body_mass_g'], '.r')\n",
    "plt.plot(limits_flipper_length_mm ,body_mass_g_vals, 'b-')\n",
    "plt.show()"
   ]
  },
  {
   "cell_type": "markdown",
   "metadata": {},
   "source": [
    "**2.g)** A baby penguin has a flipper length of around 50 mm. What is the predicted value of the body mass of a baby penguin? Comment on the prediction of the model."
   ]
  },
  {
   "cell_type": "code",
   "execution_count": 52,
   "metadata": {},
   "outputs": [
    {
     "name": "stdout",
     "output_type": "stream",
     "text": [
      "-3364.4293857307684\n"
     ]
    }
   ],
   "source": [
    "result_2g = regr.intercept_[0] + regr.coef_[0][0]*50\n",
    "print(result_2g)"
   ]
  },
  {
   "cell_type": "markdown",
   "metadata": {},
   "source": [
    "**2.h)** Perform a multiple linear regression considering `body_mass_g` as the response and using all numerical predictors. Compare the $R^2$ of the simple linear regression model and the multiple linear regression model."
   ]
  },
  {
   "cell_type": "code",
   "execution_count": 53,
   "metadata": {},
   "outputs": [
    {
     "name": "stdout",
     "output_type": "stream",
     "text": [
      "body_mass_g = -6445.4760 + 3.2929 * culmen_length_mm + 17.8364 * culmen_depth_mm + 50.7621 * flipper_length_mm\n",
      "R^2: 0.7639\n"
     ]
    }
   ],
   "source": [
    "cols = ['culmen_length_mm', 'culmen_depth_mm','flipper_length_mm']\n",
    "X = df[cols].values\n",
    "y = df['body_mass_g'].values.reshape(-1, 1)\n",
    "\n",
    "regr = LinearRegression()\n",
    "regr.fit(X,y)\n",
    "\n",
    "print('body_mass_g = {:.4f} + {:.4f} * culmen_length_mm + {:.4f} * culmen_depth_mm + {:.4f} * flipper_length_mm'.format(regr.intercept_[0], regr.coef_[0][0], regr.coef_[0][1],regr.coef_[0][2]))\n",
    "\n",
    "body_mass_g_pred = regr.predict(X)\n",
    "r2_value = r2_score(y, body_mass_g_pred)\n",
    "print('R^2: {:.4f}'.format(r2_value))"
   ]
  },
  {
   "cell_type": "markdown",
   "metadata": {},
   "source": [
    "**2.i)** Perform a multiple linear regression considering `body_mass_g` as the response and using all predictors. Comment on the $R^2$ of this model."
   ]
  },
  {
   "cell_type": "code",
   "execution_count": 54,
   "metadata": {},
   "outputs": [
    {
     "name": "stdout",
     "output_type": "stream",
     "text": [
      "body_mass_g = -1277.9329 + 18.1893 * culmen_length_mm + 67.5754 * culmen_depth_mm + 16.2385 * flipper_length_mm + 387.2243 * sex + -242.4851 * species_Adelie + -502.7913 * species_Chinstrap + 745.2764 * species_Gentoo + 20.3889 * island_Biscoe + 7.2858 * island_Dream + -27.6747 * island_Torgersen\n",
      "R^2: 0.8752\n"
     ]
    }
   ],
   "source": [
    "# Converts non-numeric columns into separate boolean columns, for each different category\n",
    "df_2i = pd.get_dummies(df,columns = ['species', 'island'],dtype=int)\n",
    "df_2i['sex'] = (df_2i['sex'] == \"MALE\").astype(int)\n",
    "\n",
    "# Define X and y for the regression\n",
    "X = df_2i.drop(['body_mass_g'],axis=1).values\n",
    "#X = df_2i.drop(['body_mass_g','species_Gentoo','island_Torgersen'],axis=1).values\n",
    "y = df_2i['body_mass_g'].values.reshape(-1, 1)\n",
    "\n",
    "# Initialize linear regression\n",
    "regr = LinearRegression()\n",
    "regr.fit(X,y)\n",
    "\n",
    "# Print linear regression expression\n",
    "print('body_mass_g = {:.4f} + {:.4f} * culmen_length_mm + {:.4f} * culmen_depth_mm + {:.4f} * flipper_length_mm + {:.4f} * sex + {:.4f} * species_Adelie + {:.4f} * species_Chinstrap + {:.4f} * species_Gentoo + {:.4f} * island_Biscoe + {:.4f} * island_Dream + {:.4f} * island_Torgersen'.format(regr.intercept_[0], regr.coef_[0][0], regr.coef_[0][1], regr.coef_[0][2], regr.coef_[0][3], regr.coef_[0][4], regr.coef_[0][5], regr.coef_[0][6], regr.coef_[0][7], regr.coef_[0][8], regr.coef_[0][9]))\n",
    "#print('body_mass_g = {:.4f} + {:.4f} * culmen_length_mm + {:.4f} * culmen_depth_mm + {:.4f} * flipper_length_mm + {:.4f} * sex + {:.4f} * species_Adelie + {:.4f} * species_Chinstrap + {:.4f} * island_Biscoe + {:.4f} * island_Dream'.format(regr.intercept_[0], regr.coef_[0][0], regr.coef_[0][1], regr.coef_[0][2], regr.coef_[0][3], regr.coef_[0][4], regr.coef_[0][5], regr.coef_[0][6], regr.coef_[0][7]))\n",
    "\n",
    "# R^2 calculation\n",
    "body_mass_g_pred = regr.predict(X)\n",
    "r2_value = r2_score(y, body_mass_g_pred)\n",
    "print('R^2: {:.4f}'.format(r2_value))"
   ]
  },
  {
   "cell_type": "markdown",
   "metadata": {},
   "source": [
    "COMMENT: $R^2$ being greater than the previous one makes sense, since more variables are being used for the linear regression, akin to the effect an overfitting would have."
   ]
  },
  {
   "cell_type": "markdown",
   "metadata": {
    "id": "1xBHkVadQ5Ot"
   },
   "source": [
    "## Section 2 -- Classification"
   ]
  },
  {
   "cell_type": "markdown",
   "metadata": {
    "id": "SIpGTVYkRD9A"
   },
   "source": [
    "**3)** Suppose that a dataset is divided into two equally-sized training and test sets, and then try out two different classification procedures:\n",
    "\n",
    "* The first is the logistic regression, obtaining an error rate of 20% on the training data and 30% on the test data.\n",
    "* The second is a 1-nearest neighbors, with an average error rate (averaged over test and training datasets) of 18%.\n",
    "\n",
    "Based on these results, which method is preferred for classifying new observations? Why?"
   ]
  },
  {
   "cell_type": "markdown",
   "metadata": {},
   "source": []
  },
  {
   "cell_type": "markdown",
   "metadata": {
    "id": "4oPohcizBV3J"
   },
   "source": [
    "## Obtain the training indices\n"
   ]
  },
  {
   "cell_type": "markdown",
   "metadata": {
    "id": "z0Ws08q_SVLO"
   },
   "source": [
    "**4.a)** Consider again the penguins dataset. However, the objective now is to predict the `sex` of the penguin based on the other variables. Split the data into test and training datasets. Consider a test dataset comprised of 30% of the whole dataset."
   ]
  },
  {
   "cell_type": "code",
   "execution_count": 55,
   "metadata": {
    "id": "Zmk2OAC3w-W6"
   },
   "outputs": [
    {
     "name": "stdout",
     "output_type": "stream",
     "text": [
      "Training set length: 234\n",
      "Test set length: 99\n"
     ]
    }
   ],
   "source": [
    "from random import sample\n",
    "import random\n",
    "import statsmodels.api as sm\n",
    "df_3 = pd.get_dummies(df,columns = ['species', 'island'],dtype=int)\n",
    "df_3['sex'] = (df_3['sex'] == \"MALE\").astype(int)\n",
    "\n",
    "test_size = 0.3     # Ratio of test dataset\n",
    "seed = 100           # Random seed\n",
    "random.seed(seed)    # Apply random seed\n",
    "idxs_test = sample(range(df_3.shape[0]), int(test_size * df_3.shape[0]))  # Sample idxs for test datasets\n",
    "idxs_train = [i for i in range(df_3.shape[0]) if i not in idxs_test]          # Obtain the remaining idxs as training\n",
    "\n",
    "## Create the train and test datasets\n",
    "df_train = df_3.iloc[idxs_train,:].copy()\n",
    "df_test = df_3.iloc[idxs_test,:].copy()\n",
    "print('Training set length:', len(df_train))\n",
    "print('Test set length:', len(df_test))"
   ]
  },
  {
   "cell_type": "markdown",
   "metadata": {
    "id": "IWepa-QISjbZ"
   },
   "source": [
    "**4.b)** Perform LDA on the training data in order to predict `sex` using the remaining variables. What is the test error of the model obtained?"
   ]
  },
  {
   "cell_type": "code",
   "execution_count": 67,
   "metadata": {
    "colab": {
     "base_uri": "https://localhost:8080/"
    },
    "id": "bQquLCRDyizP",
    "outputId": "1d2e2b4c-b73a-4d4a-e2a4-76c384ffd570"
   },
   "outputs": [
    {
     "name": "stdout",
     "output_type": "stream",
     "text": [
      "Intercept: [-68.24448976]\n",
      "Coefficients: [[ 0.36770085  1.48185728  0.04219803  0.00422558  3.11642153 -1.76800772\n",
      "  -2.0853412  -0.18366075  0.33063287 -0.223887  ]]\n",
      "Priors: [0.5042735 0.4957265]\n",
      "Means: [[4.24644068e+01 1.63788136e+01 1.97677966e+02 3.90677966e+03\n",
      "  4.15254237e-01 2.11864407e-01 3.72881356e-01 5.25423729e-01\n",
      "  3.55932203e-01 1.18644068e-01]\n",
      " [4.58163793e+01 1.78318966e+01 2.05120690e+02 4.60000000e+03\n",
      "  4.39655172e-01 1.63793103e-01 3.96551724e-01 5.34482759e-01\n",
      "  3.01724138e-01 1.63793103e-01]]\n",
      "Classes: [0 1]\n",
      "\n",
      "                             Actual\n",
      "                        FEMALE |  MALE\n",
      "     Predicted FEMALE:     45  |  3\n",
      "       Predicted MALE:      2  |  49\n",
      "\n",
      "Success Rate: 94.95%\n",
      "[]\n"
     ]
    }
   ],
   "source": [
    "from sklearn.linear_model import LogisticRegression\n",
    "from sklearn.metrics import confusion_matrix\n",
    "from sklearn.metrics import accuracy_score\n",
    "from sklearn.discriminant_analysis import LinearDiscriminantAnalysis\n",
    "\n",
    "\n",
    "## Create input and output matrices\n",
    "X_train = df_train.drop(['sex'], axis=1).values\n",
    "y_train = df_train['sex'].values\n",
    "X_test = df_test.drop(['sex'], axis=1).values\n",
    "y_test = df_test['sex'].values\n",
    "\n",
    "## Create the model and fit the data to it\n",
    "model = LinearDiscriminantAnalysis()\n",
    "model.fit(X_train, y_train)\n",
    "\n",
    "## Print the coefficients and the interception value\n",
    "print('Intercept: {}'.format(model.intercept_))\n",
    "print('Coefficients: {}'.format(model.coef_))\n",
    "print('Priors: {}'.format(model.priors_))\n",
    "print('Means: {}'.format(model.means_))\n",
    "print('Classes: {}'.format(model.classes_))\n",
    "\n",
    "## Predict the classification and print the confusion matrix\n",
    "y_pred = model.predict(X_test)\n",
    "cm = confusion_matrix(y_test, y_pred)\n",
    "\n",
    "print ('\\n' + 'Actual'.rjust(35))\n",
    "print ('{} |  {}'.format('FEMALE'.rjust(30),'MALE'))\n",
    "print ('{}:     {}  |  {}'.format('Predicted FEMALE'.rjust(21), cm[0,0], cm[1,0]))\n",
    "print ('{}:      {}  |  {}'.format('Predicted MALE'.rjust(21), cm[0,1], cm[1,1]))\n",
    "print('\\nSuccess Rate: {:.2f}%'.format(accuracy_score(y_pred, y_test)*100))\n",
    "\n",
    "## Store the necessary variables\n",
    "cols_to_store = [i for i in range(len(model.classes_)) if model.classes_[i] == 'MALE']\n",
    "y_LDA_pred = model.predict_proba(X_test)[:,cols_to_store]\n",
    "y_LDA_true = (y_test.copy() == 'MALE').copy()\n"
   ]
  },
  {
   "cell_type": "markdown",
   "metadata": {
    "id": "YWiMguFvSjWE"
   },
   "source": [
    "**4.c)** Perform QDA on the training data in order to predict `sex` using the remaining variables. What is the test error of the model obtained?"
   ]
  },
  {
   "cell_type": "code",
   "execution_count": 57,
   "metadata": {
    "colab": {
     "base_uri": "https://localhost:8080/"
    },
    "id": "bvzDUm5sze_l",
    "outputId": "551d1323-9c00-4475-aeaa-fa73eb7d0f50"
   },
   "outputs": [
    {
     "name": "stdout",
     "output_type": "stream",
     "text": [
      "Priors: [0.5042735 0.4957265]\n",
      "Means: [[4.24644068e+01 1.63788136e+01 1.97677966e+02 3.90677966e+03\n",
      "  4.15254237e-01 2.11864407e-01 3.72881356e-01 5.25423729e-01\n",
      "  3.55932203e-01 1.18644068e-01]\n",
      " [4.58163793e+01 1.78318966e+01 2.05120690e+02 4.60000000e+03\n",
      "  4.39655172e-01 1.63793103e-01 3.96551724e-01 5.34482759e-01\n",
      "  3.01724138e-01 1.63793103e-01]]\n",
      "Classes: [0 1]\n",
      "\n",
      "                             Actual\n",
      "                        FEMALE |  MALE\n",
      "     Predicted FEMALE:     14  |  10\n",
      "       Predicted MALE:     33  |  42\n",
      "\n",
      "Success Rate: 56.57%\n"
     ]
    },
    {
     "name": "stderr",
     "output_type": "stream",
     "text": [
      "C:\\Users\\pucag\\miniconda3\\envs\\advanced-automation\\Lib\\site-packages\\sklearn\\discriminant_analysis.py:926: UserWarning: Variables are collinear\n",
      "  warnings.warn(\"Variables are collinear\")\n"
     ]
    }
   ],
   "source": [
    "from sklearn.discriminant_analysis import QuadraticDiscriminantAnalysis\n",
    "\n",
    "## Create input and output matrices\n",
    "X_train = df_train.drop(['sex'], axis=1).values\n",
    "y_train = df_train['sex'].values\n",
    "X_test = df_test.drop(['sex'], axis=1).values\n",
    "y_test = df_test['sex'].values\n",
    "\n",
    "## Create the model and fit the data to it\n",
    "model = QuadraticDiscriminantAnalysis()\n",
    "model.fit(X_train, y_train)\n",
    "\n",
    "## Print the coefficients and the interception value\n",
    "print('Priors: {}'.format(model.priors_))\n",
    "print('Means: {}'.format(model.means_))\n",
    "print('Classes: {}'.format(model.classes_))\n",
    "\n",
    "## Predict the classification and print the confusion matrix\n",
    "y_pred = model.predict(X_test)\n",
    "cm = confusion_matrix(y_test, y_pred)\n",
    "\n",
    "print ('\\n' + 'Actual'.rjust(35))\n",
    "print ('{} |  {}'.format('FEMALE'.rjust(30),'MALE'))\n",
    "print ('{}:     {}  |  {}'.format('Predicted FEMALE'.rjust(21), cm[0,0], cm[1,0]))\n",
    "print ('{}:     {}  |  {}'.format('Predicted MALE'.rjust(21), cm[0,1], cm[1,1]))\n",
    "print('\\nSuccess Rate: {:.2f}%'.format(accuracy_score(y_pred, y_test)*100))\n",
    "\n",
    "\n",
    "## Store the necessary variables\n",
    "cols_to_store = [i for i in range(len(model.classes_)) if model.classes_[i] == 'Up']\n",
    "y_QDA_pred = model.predict_proba(X_test)[:,cols_to_store]\n",
    "y_QDA_true = (y_test.copy() == 'MALE').copy()\n"
   ]
  },
  {
   "cell_type": "markdown",
   "metadata": {
    "id": "DFAhEuhSSjOz"
   },
   "source": [
    "**4.d)** Perform logistic regression on the training data in order to predict `sex` using the remaining variables. What is the test error of the model obtained?"
   ]
  },
  {
   "cell_type": "code",
   "execution_count": 58,
   "metadata": {
    "colab": {
     "base_uri": "https://localhost:8080/"
    },
    "id": "7oVkI9QUzufY",
    "outputId": "13b0d3c3-ec1f-48d1-e68d-06f65b043b48"
   },
   "outputs": [
    {
     "name": "stdout",
     "output_type": "stream",
     "text": [
      "Intercept: [-0.29615741]\n",
      "Coefficients: [[ 0.18635618  0.73039259 -0.22082308  0.00574034  0.36185875 -0.47904486\n",
      "  -0.17876188 -0.624066   -0.23046757  0.55858557]]\n",
      "Classes: [0 1]\n",
      "\n",
      "                             Actual\n",
      "                        FEMALE |  MALE\n",
      "     Predicted FEMALE:     44  |  15\n",
      "       Predicted MALE:      3  |  37\n",
      "\n",
      "Success Rate: 81.82%\n"
     ]
    }
   ],
   "source": [
    "\n",
    "## Create input and output matrices\n",
    "#features = ['Lag1', 'Lag2', 'Lag3', 'Lag4', 'Lag5', 'Volume']\n",
    "X_train = df_train.drop(['sex'], axis=1).values\n",
    "y_train = df_train['sex'].values\n",
    "X_test = df_test.drop(['sex'], axis=1).values\n",
    "y_test = df_test['sex'].values\n",
    "\n",
    "## Create the model and fit the data to it\n",
    "model = LogisticRegression()\n",
    "model.fit(X_train, y_train)\n",
    "\n",
    "## Print the coefficients and the interception value\n",
    "print('Intercept: {}'.format(model.intercept_))\n",
    "print('Coefficients: {}'.format(model.coef_))\n",
    "print('Classes: {}'.format(model.classes_))\n",
    "\n",
    "## Predict the classification and print the confusion matrix\n",
    "y_pred = model.predict(X_test)\n",
    "cm = confusion_matrix(y_test, y_pred)\n",
    "\n",
    "print ('\\n' + 'Actual'.rjust(35))\n",
    "print ('{} |  {}'.format('FEMALE'.rjust(30),'MALE'))\n",
    "print ('{}:     {}  |  {}'.format('Predicted FEMALE'.rjust(21), cm[0,0], cm[1,0]))\n",
    "print ('{}:      {}  |  {}'.format('Predicted MALE'.rjust(21), cm[0,1], cm[1,1]))\n",
    "print('\\nSuccess Rate: {:.2f}%'.format(accuracy_score(y_pred, y_test)*100))\n",
    "\n",
    "cols_to_store = [i for i in range(len(model.classes_)) if model.classes_[i] == 'MALE']\n",
    "y_logistic_pred  = model.predict_proba(X_test)[:,cols_to_store]\n",
    "y_logistic_true = (y_test.copy() == 'MALE').copy()"
   ]
  },
  {
   "cell_type": "markdown",
   "metadata": {
    "id": "dJUvW41ViqMc"
   },
   "source": [
    "**4.e)** Perform naive Bayes on the training data in order to predict `sex` using the remaining variables. What is the test error of the model obtained?"
   ]
  },
  {
   "cell_type": "code",
   "execution_count": 59,
   "metadata": {
    "colab": {
     "base_uri": "https://localhost:8080/"
    },
    "id": "U6pzjPGc1y_t",
    "outputId": "06706c5a-8a45-4621-ebd2-83dae40d27ac"
   },
   "outputs": [
    {
     "name": "stdout",
     "output_type": "stream",
     "text": [
      "Class Priors: [0.5042735 0.4957265]\n",
      "Sigma: [[2.42024695e+01 3.37303324e+00 1.57507149e+02 4.55684969e+05\n",
      "  2.43503647e-01 1.67663371e-01 2.34526342e-01 2.50039125e-01\n",
      "  2.29929961e-01 1.05253144e-01]\n",
      " [3.00956758e+01 3.58096120e+00 2.33520602e+02 6.76928880e+05\n",
      "  2.47043993e-01 1.37650414e-01 2.39983945e-01 2.49496431e-01\n",
      "  2.11372174e-01 1.37650414e-01]]\n",
      "Theta: [[4.24644068e+01 1.63788136e+01 1.97677966e+02 3.90677966e+03\n",
      "  4.15254237e-01 2.11864407e-01 3.72881356e-01 5.25423729e-01\n",
      "  3.55932203e-01 1.18644068e-01]\n",
      " [4.58163793e+01 1.78318966e+01 2.05120690e+02 4.60000000e+03\n",
      "  4.39655172e-01 1.63793103e-01 3.96551724e-01 5.34482759e-01\n",
      "  3.01724138e-01 1.63793103e-01]]\n",
      "Classes: [0 1]\n",
      "\n",
      "                             Actual\n",
      "                        FEMALE |  MALE\n",
      "     Predicted FEMALE:     41  |  20\n",
      "       Predicted MALE:      6  |  32\n",
      "\n",
      "Success Rate: 73.74%\n"
     ]
    }
   ],
   "source": [
    "from sklearn.naive_bayes import GaussianNB\n",
    "\n",
    "## Create input and output matrices\n",
    "X_train = df_train.drop(['sex'], axis=1).values\n",
    "y_train = df_train['sex'].values\n",
    "X_test = df_test.drop(['sex'], axis=1).values\n",
    "y_test = df_test['sex'].values\n",
    "\n",
    "## Create the model and fit the data to it\n",
    "model = GaussianNB()\n",
    "model.fit(X_train, y_train)\n",
    "\n",
    "## Print the coefficients and the interception value\n",
    "print('Class Priors: {}'.format(model.class_prior_))\n",
    "print('Sigma: {}'.format(model.var_))\n",
    "print('Theta: {}'.format(model.theta_))\n",
    "print('Classes: {}'.format(model.classes_))\n",
    "\n",
    "## Predict the classification and print the confusion matrix\n",
    "y_pred = model.predict(X_test)\n",
    "cm = confusion_matrix(y_test, y_pred)\n",
    "\n",
    "print ('\\n' + 'Actual'.rjust(35))\n",
    "print ('{} |  {}'.format('FEMALE'.rjust(30),'MALE'))\n",
    "print ('{}:     {}  |  {}'.format('Predicted FEMALE'.rjust(21), cm[0,0], cm[1,0]))\n",
    "print ('{}:      {}  |  {}'.format('Predicted MALE'.rjust(21), cm[0,1], cm[1,1]))\n",
    "print('\\nSuccess Rate: {:.2f}%'.format(accuracy_score(y_pred, y_test)*100))\n",
    "\n",
    "cols_to_store = [i for i in range(len(model.classes_)) if model.classes_[i] == 'MALE']\n",
    "y_GNB_pred = model.predict_proba(X_test)[:,cols_to_store]\n",
    "y_GNB_true = (y_test.copy() == 'MALE').copy()\n"
   ]
  },
  {
   "cell_type": "markdown",
   "metadata": {
    "id": "tPRBsCLviqKm"
   },
   "source": [
    "**4.f)** Perform KNN on the training data, with several values of K, in order to predict `sex`. What test errors are obtained? Which value of K seems to perform the best on this data set?"
   ]
  },
  {
   "cell_type": "code",
   "execution_count": 60,
   "metadata": {
    "colab": {
     "base_uri": "https://localhost:8080/",
     "height": 641
    },
    "id": "KCXGQmN52G7W",
    "outputId": "2acad9b9-7f01-40bb-de3a-e8e1b08b25b7"
   },
   "outputs": [
    {
     "name": "stdout",
     "output_type": "stream",
     "text": [
      "\n",
      "                             Actual\n",
      "                        FEMALE |  MALE\n",
      "     Predicted FEMALE:     36  |  21\n",
      "       Predicted MALE:     11  |  31\n",
      "\n",
      "Success Rate: 67.68%\n",
      "\n",
      "                             Actual\n",
      "                        FEMALE |  MALE\n",
      "     Predicted FEMALE:     33  |  22\n",
      "       Predicted MALE:     14  |  30\n",
      "\n",
      "Success Rate: 63.64%\n",
      "\n",
      "                             Actual\n",
      "                        FEMALE |  MALE\n",
      "     Predicted FEMALE:     44  |  14\n",
      "       Predicted MALE:     3  |  38\n",
      "\n",
      "Success Rate: 82.83%\n"
     ]
    },
    {
     "data": {
      "image/png": "[encoded data removed]",
      "text/plain": [
       "<Figure size 1600x500 with 1 Axes>"
      ]
     },
     "metadata": {},
     "output_type": "display_data"
    }
   ],
   "source": [
    "from sklearn.neighbors import KNeighborsClassifier\n",
    "\n",
    "## Create input and output matrices\n",
    "X_train = df_train.drop(['sex'], axis=1).values\n",
    "y_train = df_train['sex'].values\n",
    "X_test = df_test.drop(['sex'], axis=1).values\n",
    "y_test = df_test['sex'].values\n",
    "\n",
    "def KNN_fit(X_train, X_test, y_train, y_test, n_neighbors, verbosity=0):\n",
    "    \n",
    "    ## Create the model and fit the data to it\n",
    "    model = KNeighborsClassifier(n_neighbors=n_neighbors)\n",
    "    model.fit(X_train, y_train)\n",
    "\n",
    "    ## Predict the classification and print the confusion matrix\n",
    "    y_pred = model.predict(X_test)\n",
    "    cm = confusion_matrix(y_test, y_pred)\n",
    "    accuracy_val = accuracy_score(y_pred, y_test)*100\n",
    "    \n",
    "    if verbosity == 1:\n",
    "        print ('\\n' + 'Actual'.rjust(35))\n",
    "        print ('{} |  {}'.format('FEMALE'.rjust(30),'MALE'))\n",
    "        print ('{}:     {}  |  {}'.format('Predicted FEMALE'.rjust(21), cm[0,0], cm[1,0]))\n",
    "        print ('{}:     {}  |  {}'.format('Predicted MALE'.rjust(21), cm[0,1], cm[1,1]))\n",
    "        print('\\nSuccess Rate: {:.2f}%'.format(accuracy_score(y_pred, y_test)*100))\n",
    "    \n",
    "    return model, accuracy_val\n",
    "    \n",
    "accuracies = []\n",
    "knn_limit = 15\n",
    "\n",
    "## Access the custom created KNN function to calculate the accuracy for each number of neighbors\n",
    "for i in range(knn_limit):\n",
    "    _, accuracy_val = KNN_fit(X_train, X_test, y_train, y_test, n_neighbors=i+1, verbosity=0)\n",
    "    accuracies.append(accuracy_val)\n",
    "\n",
    "cols_to_store = [i for i in range(len(model.classes_)) if model.classes_[i] == 'MALE']\n",
    "y_KNN_pred = model.predict_proba(X_test)[:,cols_to_store]\n",
    "y_KNN_true = (y_test.copy() == 'MALE').copy()\n",
    "\n",
    "\n",
    "model_k1, accuracy_val = KNN_fit(X_train, X_test, y_train, y_test, n_neighbors=1, verbosity=1)\n",
    "model_k3, accuracy_val = KNN_fit(X_train, X_test, y_train, y_test, n_neighbors=3, verbosity=1)\n",
    "model_k13, accuracy_val = KNN_fit(X_train, X_test, y_train, y_test, n_neighbors=13, verbosity=1)\n",
    "\n",
    "## Plot the results\n",
    "plt.subplots(figsize=(16, 5))\n",
    "plt.plot([i+1 for i in range(knn_limit)], accuracies)\n",
    "plt.xlabel('k Value')\n",
    "plt.ylabel('Accuracy')\n",
    "plt.show()"
   ]
  },
  {
   "cell_type": "markdown",
   "metadata": {
    "id": "nvhamoK0i2WZ"
   },
   "source": [
    "**4.g)** Plot the ROC curve and calculate the area under curve (AUC) for the LDA, QDA, logistic regression, naive Bayes and for the best value of K for the KNN method. Compare the results."
   ]
  },
  {
   "cell_type": "code",
   "execution_count": 64,
   "metadata": {
    "colab": {
     "base_uri": "https://localhost:8080/",
     "height": 388
    },
    "id": "iNXZovNn8Wlv",
    "outputId": "a16a5b29-226c-437d-e2ec-5a34ee33fca2"
   },
   "outputs": [
    {
     "name": "stdout",
     "output_type": "stream",
     "text": [
      "[False False False False False False False False False False False False\n",
      " False False False False False False False False False False False False\n",
      " False False False False False False False False False False False False\n",
      " False False False False False False False False False False False False\n",
      " False False False False False False False False False False False False\n",
      " False False False False False False False False False False False False\n",
      " False False False False False False False False False False False False\n",
      " False False False False False False False False False False False False\n",
      " False False False]\n",
      "[]\n"
     ]
    },
    {
     "ename": "ValueError",
     "evalue": "Found array with 0 feature(s) (shape=(99, 0)) while a minimum of 1 is required.",
     "output_type": "error",
     "traceback": [
      "\u001b[1;31m---------------------------------------------------------------------------\u001b[0m",
      "\u001b[1;31mValueError\u001b[0m                                Traceback (most recent call last)",
      "Cell \u001b[1;32mIn[64], line 8\u001b[0m\n\u001b[0;32m      5\u001b[0m \u001b[38;5;28mprint\u001b[39m(y_logistic_pred)\n\u001b[0;32m      7\u001b[0m \u001b[38;5;66;03m# Calculate ROC curves\u001b[39;00m\n\u001b[1;32m----> 8\u001b[0m lr_fpr, lr_tpr, _ \u001b[38;5;241m=\u001b[39m roc_curve(y_logistic_true, y_logistic_pred)\n\u001b[0;32m      9\u001b[0m lr_fpr1, lr_tpr1, _ \u001b[38;5;241m=\u001b[39m roc_curve(y_LDA_true, y_LDA_pred)\n\u001b[0;32m     10\u001b[0m lr_fpr2, lr_tpr2, _ \u001b[38;5;241m=\u001b[39m roc_curve(y_QDA_true, y_QDA_pred)\n",
      "File \u001b[1;32m~\\miniconda3\\envs\\advanced-automation\\Lib\\site-packages\\sklearn\\metrics\\_ranking.py:992\u001b[0m, in \u001b[0;36mroc_curve\u001b[1;34m(y_true, y_score, pos_label, sample_weight, drop_intermediate)\u001b[0m\n\u001b[0;32m    904\u001b[0m \u001b[38;5;28;01mdef\u001b[39;00m \u001b[38;5;21mroc_curve\u001b[39m(\n\u001b[0;32m    905\u001b[0m     y_true, y_score, \u001b[38;5;241m*\u001b[39m, pos_label\u001b[38;5;241m=\u001b[39m\u001b[38;5;28;01mNone\u001b[39;00m, sample_weight\u001b[38;5;241m=\u001b[39m\u001b[38;5;28;01mNone\u001b[39;00m, drop_intermediate\u001b[38;5;241m=\u001b[39m\u001b[38;5;28;01mTrue\u001b[39;00m\n\u001b[0;32m    906\u001b[0m ):\n\u001b[0;32m    907\u001b[0m \u001b[38;5;250m    \u001b[39m\u001b[38;5;124;03m\"\"\"Compute Receiver operating characteristic (ROC).\u001b[39;00m\n\u001b[0;32m    908\u001b[0m \n\u001b[0;32m    909\u001b[0m \u001b[38;5;124;03m    Note: this implementation is restricted to the binary classification task.\u001b[39;00m\n\u001b[1;32m   (...)\u001b[0m\n\u001b[0;32m    990\u001b[0m \u001b[38;5;124;03m    array([1.8 , 0.8 , 0.4 , 0.35, 0.1 ])\u001b[39;00m\n\u001b[0;32m    991\u001b[0m \u001b[38;5;124;03m    \"\"\"\u001b[39;00m\n\u001b[1;32m--> 992\u001b[0m     fps, tps, thresholds \u001b[38;5;241m=\u001b[39m _binary_clf_curve(\n\u001b[0;32m    993\u001b[0m         y_true, y_score, pos_label\u001b[38;5;241m=\u001b[39mpos_label, sample_weight\u001b[38;5;241m=\u001b[39msample_weight\n\u001b[0;32m    994\u001b[0m     )\n\u001b[0;32m    996\u001b[0m     \u001b[38;5;66;03m# Attempt to drop thresholds corresponding to points in between and\u001b[39;00m\n\u001b[0;32m    997\u001b[0m     \u001b[38;5;66;03m# collinear with other points. These are always suboptimal and do not\u001b[39;00m\n\u001b[0;32m    998\u001b[0m     \u001b[38;5;66;03m# appear on a plotted ROC curve (and thus do not affect the AUC).\u001b[39;00m\n\u001b[1;32m   (...)\u001b[0m\n\u001b[0;32m   1003\u001b[0m     \u001b[38;5;66;03m# but does not drop more complicated cases like fps = [1, 3, 7],\u001b[39;00m\n\u001b[0;32m   1004\u001b[0m     \u001b[38;5;66;03m# tps = [1, 2, 4]; there is no harm in keeping too many thresholds.\u001b[39;00m\n\u001b[0;32m   1005\u001b[0m     \u001b[38;5;28;01mif\u001b[39;00m drop_intermediate \u001b[38;5;129;01mand\u001b[39;00m \u001b[38;5;28mlen\u001b[39m(fps) \u001b[38;5;241m>\u001b[39m \u001b[38;5;241m2\u001b[39m:\n",
      "File \u001b[1;32m~\\miniconda3\\envs\\advanced-automation\\Lib\\site-packages\\sklearn\\metrics\\_ranking.py:753\u001b[0m, in \u001b[0;36m_binary_clf_curve\u001b[1;34m(y_true, y_score, pos_label, sample_weight)\u001b[0m\n\u001b[0;32m    751\u001b[0m check_consistent_length(y_true, y_score, sample_weight)\n\u001b[0;32m    752\u001b[0m y_true \u001b[38;5;241m=\u001b[39m column_or_1d(y_true)\n\u001b[1;32m--> 753\u001b[0m y_score \u001b[38;5;241m=\u001b[39m column_or_1d(y_score)\n\u001b[0;32m    754\u001b[0m assert_all_finite(y_true)\n\u001b[0;32m    755\u001b[0m assert_all_finite(y_score)\n",
      "File \u001b[1;32m~\\miniconda3\\envs\\advanced-automation\\Lib\\site-packages\\sklearn\\utils\\validation.py:1179\u001b[0m, in \u001b[0;36mcolumn_or_1d\u001b[1;34m(y, dtype, warn)\u001b[0m\n\u001b[0;32m   1153\u001b[0m \u001b[38;5;250m\u001b[39m\u001b[38;5;124;03m\"\"\"Ravel column or 1d numpy array, else raises an error.\u001b[39;00m\n\u001b[0;32m   1154\u001b[0m \n\u001b[0;32m   1155\u001b[0m \u001b[38;5;124;03mParameters\u001b[39;00m\n\u001b[1;32m   (...)\u001b[0m\n\u001b[0;32m   1176\u001b[0m \u001b[38;5;124;03m    If `y` is not a 1D array or a 2D array with a single row or column.\u001b[39;00m\n\u001b[0;32m   1177\u001b[0m \u001b[38;5;124;03m\"\"\"\u001b[39;00m\n\u001b[0;32m   1178\u001b[0m xp, _ \u001b[38;5;241m=\u001b[39m get_namespace(y)\n\u001b[1;32m-> 1179\u001b[0m y \u001b[38;5;241m=\u001b[39m check_array(\n\u001b[0;32m   1180\u001b[0m     y,\n\u001b[0;32m   1181\u001b[0m     ensure_2d\u001b[38;5;241m=\u001b[39m\u001b[38;5;28;01mFalse\u001b[39;00m,\n\u001b[0;32m   1182\u001b[0m     dtype\u001b[38;5;241m=\u001b[39mdtype,\n\u001b[0;32m   1183\u001b[0m     input_name\u001b[38;5;241m=\u001b[39m\u001b[38;5;124m\"\u001b[39m\u001b[38;5;124my\u001b[39m\u001b[38;5;124m\"\u001b[39m,\n\u001b[0;32m   1184\u001b[0m     force_all_finite\u001b[38;5;241m=\u001b[39m\u001b[38;5;28;01mFalse\u001b[39;00m,\n\u001b[0;32m   1185\u001b[0m     ensure_min_samples\u001b[38;5;241m=\u001b[39m\u001b[38;5;241m0\u001b[39m,\n\u001b[0;32m   1186\u001b[0m )\n\u001b[0;32m   1188\u001b[0m shape \u001b[38;5;241m=\u001b[39m y\u001b[38;5;241m.\u001b[39mshape\n\u001b[0;32m   1189\u001b[0m \u001b[38;5;28;01mif\u001b[39;00m \u001b[38;5;28mlen\u001b[39m(shape) \u001b[38;5;241m==\u001b[39m \u001b[38;5;241m1\u001b[39m:\n",
      "File \u001b[1;32m~\\miniconda3\\envs\\advanced-automation\\Lib\\site-packages\\sklearn\\utils\\validation.py:940\u001b[0m, in \u001b[0;36mcheck_array\u001b[1;34m(array, accept_sparse, accept_large_sparse, dtype, order, copy, force_all_finite, ensure_2d, allow_nd, ensure_min_samples, ensure_min_features, estimator, input_name)\u001b[0m\n\u001b[0;32m    938\u001b[0m     n_features \u001b[38;5;241m=\u001b[39m array\u001b[38;5;241m.\u001b[39mshape[\u001b[38;5;241m1\u001b[39m]\n\u001b[0;32m    939\u001b[0m     \u001b[38;5;28;01mif\u001b[39;00m n_features \u001b[38;5;241m<\u001b[39m ensure_min_features:\n\u001b[1;32m--> 940\u001b[0m         \u001b[38;5;28;01mraise\u001b[39;00m \u001b[38;5;167;01mValueError\u001b[39;00m(\n\u001b[0;32m    941\u001b[0m             \u001b[38;5;124m\"\u001b[39m\u001b[38;5;124mFound array with \u001b[39m\u001b[38;5;132;01m%d\u001b[39;00m\u001b[38;5;124m feature(s) (shape=\u001b[39m\u001b[38;5;132;01m%s\u001b[39;00m\u001b[38;5;124m) while\u001b[39m\u001b[38;5;124m\"\u001b[39m\n\u001b[0;32m    942\u001b[0m             \u001b[38;5;124m\"\u001b[39m\u001b[38;5;124m a minimum of \u001b[39m\u001b[38;5;132;01m%d\u001b[39;00m\u001b[38;5;124m is required\u001b[39m\u001b[38;5;132;01m%s\u001b[39;00m\u001b[38;5;124m.\u001b[39m\u001b[38;5;124m\"\u001b[39m\n\u001b[0;32m    943\u001b[0m             \u001b[38;5;241m%\u001b[39m (n_features, array\u001b[38;5;241m.\u001b[39mshape, ensure_min_features, context)\n\u001b[0;32m    944\u001b[0m         )\n\u001b[0;32m    946\u001b[0m \u001b[38;5;28;01mif\u001b[39;00m copy:\n\u001b[0;32m    947\u001b[0m     \u001b[38;5;28;01mif\u001b[39;00m xp\u001b[38;5;241m.\u001b[39m\u001b[38;5;18m__name__\u001b[39m \u001b[38;5;129;01min\u001b[39;00m {\u001b[38;5;124m\"\u001b[39m\u001b[38;5;124mnumpy\u001b[39m\u001b[38;5;124m\"\u001b[39m, \u001b[38;5;124m\"\u001b[39m\u001b[38;5;124mnumpy.array_api\u001b[39m\u001b[38;5;124m\"\u001b[39m}:\n\u001b[0;32m    948\u001b[0m         \u001b[38;5;66;03m# only make a copy if `array` and `array_orig` may share memory`\u001b[39;00m\n",
      "\u001b[1;31mValueError\u001b[0m: Found array with 0 feature(s) (shape=(99, 0)) while a minimum of 1 is required."
     ]
    }
   ],
   "source": [
    "from sklearn.metrics import roc_curve\n",
    "from sklearn.metrics import roc_auc_score\n",
    "\n",
    "print(y_logistic_true)\n",
    "print(y_logistic_pred)\n",
    "\n",
    "# Calculate ROC curves\n",
    "lr_fpr, lr_tpr, _ = roc_curve(y_logistic_true, y_logistic_pred)\n",
    "lr_fpr1, lr_tpr1, _ = roc_curve(y_LDA_true, y_LDA_pred)\n",
    "lr_fpr2, lr_tpr2, _ = roc_curve(y_QDA_true, y_QDA_pred)\n",
    "lr_fpr3, lr_tpr3, _ = roc_curve(y_GNB_true, y_GNB_pred)\n",
    "lr_fpr4, lr_tpr4, _ = roc_curve(y_KNN_true, y_KNN_pred)\n",
    "\n",
    "# Plot the ROC curve for the model\n",
    "plt.subplots(figsize=(15, 6))\n",
    "plt.plot([0,1], [0,1], linestyle='--', label = 'Base')\n",
    "plt.plot(lr_fpr, lr_tpr, marker='.', label = 'Logistic Regression')\n",
    "plt.plot(lr_fpr1, lr_tpr1, marker='.', label = 'LDA')\n",
    "plt.plot(lr_fpr2, lr_tpr2, marker='.', label = 'QDA')\n",
    "plt.plot(lr_fpr3, lr_tpr3, marker='.', label = 'Naive Bayes')\n",
    "plt.plot(lr_fpr4, lr_tpr4, marker='.', label = 'KNN')\n",
    "\n",
    "# Axis Labels\n",
    "plt.legend()\n",
    "plt.xlabel('False Positive Rate')\n",
    "plt.ylabel('True Positive Rate')\n",
    "plt.show()\n",
    "\n",
    "# Print scores of Area under curve (AUC)\n",
    "print('AUC'.rjust(25))\n",
    "print('{}: {:.3f}'.format('Logistic Regression'.rjust(19), roc_auc_score(y_logistic_true, y_logistic_pred)))\n",
    "print('{}: {:.3f}'.format('LDA'.rjust(19), roc_auc_score(y_LDA_true, y_LDA_pred)))\n",
    "print('{}: {:.3f}'.format('QDA'.rjust(19), roc_auc_score(y_QDA_true, y_QDA_pred)))\n",
    "print('{}: {:.3f}'.format('Naive Bayes'.rjust(19), roc_auc_score(y_GNB_true, y_GNB_pred)))\n",
    "print('{}: {:.3f}'.format('KNN'.rjust(19), roc_auc_score(y_KNN_true, y_KNN_pred)))"
   ]
  },
  {
   "cell_type": "markdown",
   "metadata": {
    "id": "jEtBKnHni2GT"
   },
   "source": [
    "## Section 3 -- Bootstrap and k-Fold"
   ]
  },
  {
   "cell_type": "markdown",
   "metadata": {
    "id": "AyCSRMx2pDsm"
   },
   "source": [
    "**5.a)** Explain how k-fold cross-validation is implemented."
   ]
  },
  {
   "cell_type": "markdown",
   "metadata": {
    "id": "Bh8t6HC49HIl"
   },
   "source": [
    "Randomly divide the data into $K$ equal-sized parts. We leave out the part $k$, fit the model to the other $K-1$ parts, and then obtain predictors for the left-out $k$th part."
   ]
  },
  {
   "cell_type": "markdown",
   "metadata": {
    "id": "MbIethdmpcwr"
   },
   "source": [
    "**5.b)** What are the advantages and disadvantages of k-Fold cross-validation relative to:\n",
    "\n",
    "1. Validation set approach.\n",
    "2. Leave One Out Cross-Validation (LOOCV)."
   ]
  },
  {
   "cell_type": "markdown",
   "metadata": {
    "id": "F_U7i3m1MYWh"
   },
   "source": [
    "<u>Comparing with Validation set approach</u>:\n",
    "- Advantages:\n",
    "1. When it comes to *variance*, the validation set approach directly depends on the training set size that is arbitrarily chosen, which means that improper sizes may lead to higher variances than those of the k-Fold CV.\n",
    "2. Regarding *suitability*, the model we get from the validation set approach is tuned for a randomly chosen ratio between training and test dataset sizes, making it highly circumstantial and thus not as suitable for new data as a model obtained from the k-Fold CV is.\n",
    "- Disadvantages:\n",
    "1. In regards to *computational demand*, while the k-Fold CV computes k trainings and k tests (leading to k models), the validation set approach only performs each of those once, making it computationally less demanding than the former.\n",
    "\n",
    "<u>Comparing with Leave One Out Cross-Validation</u>:\n",
    "- Advantages:\n",
    "1. When it comes to *variance*, k-Fold CV yields lower values than those of LOOCV. Due to the nature of the LOOCV method, training data is highly correlated between itself, which may lead to test errors with a high variance.\n",
    "2. In regards to *computational demand*, k-Fold CV performs k trainings and tests, whereas LOOCV will perform these for each data point in our dataset. Thus, k-Fold CV has a lower computational demand, especially for large datasets.\n",
    "- Disadvantages:\n",
    "1. Concerning *bias*, the LOOCV method uses almost the entirety of the dataset for training, and, therefore, will have most of the observations, which means our model will be very close to that observed reality, leading to a lower bias. In contrast, the k-Fold CV will have a more biased result, since the training set size is not as large as those of the LOOCV."
   ]
  },
  {
   "cell_type": "markdown",
   "metadata": {
    "id": "jOcCUxFMpAGw"
   },
   "source": [
    "## Section 4 -- Other Questions"
   ]
  },
  {
   "cell_type": "markdown",
   "metadata": {
    "id": "jUkJU0D7pFWO"
   },
   "source": [
    "**6)** In your group's option, what are the advantages and disadvantages of using a virtual environment when programming in Python?"
   ]
  },
  {
   "cell_type": "markdown",
   "metadata": {
    "id": "4gyfaAIi9KVM"
   },
   "source": []
  },
  {
   "cell_type": "markdown",
   "metadata": {
    "id": "W8dWu7BXpFTc"
   },
   "source": [
    "**7)** In your group's opinion, in what circumstances is it better to use Jupyter Notebooks and when is it better to use Google Colab notebooks? Give some specific examples."
   ]
  },
  {
   "cell_type": "markdown",
   "metadata": {
    "id": "rtVRKNrS9vYB"
   },
   "source": []
  },
  {
   "cell_type": "markdown",
   "metadata": {
    "id": "Sl0krfG6pFH6"
   },
   "source": [
    "**8)** Enter your GitHub repository webpage."
   ]
  },
  {
   "cell_type": "markdown",
   "metadata": {},
   "source": [
    "https://github.com/oseNATiO/Assignment-1\n",
    "(email rodrigo.j.amorim@tecnico.ulisboa.pt for access)"
   ]
  }
 ],
 "metadata": {
  "colab": {
   "collapsed_sections": [],
   "name": "Lab2_assignment_solved.ipynb",
   "provenance": []
  },
  "kernelspec": {
   "display_name": "Python 3 (ipykernel)",
   "language": "python",
   "name": "python3"
  },
  "language_info": {
   "codemirror_mode": {
    "name": "ipython",
    "version": 3
   },
   "file_extension": ".py",
   "mimetype": "text/x-python",
   "name": "python",
   "nbconvert_exporter": "python",
   "pygments_lexer": "ipython3",
   "version": "3.11.5"
  },
  "vscode": {
   "interpreter": {
    "hash": "98b9776bb1c906ffea5885633daef92fdfff9bdc53a036d784e355cfb10fec4f"
   }
  },
  "widgets": {
   "application/vnd.jupyter.widget-state+json": {
    "state": {},
    "version_major": 2,
    "version_minor": 0
   }
  }
 },
 "nbformat": 4,
 "nbformat_minor": 4
}

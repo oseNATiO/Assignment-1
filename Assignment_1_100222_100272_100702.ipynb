{
  "cells": [
    {
      "cell_type": "markdown",
      "metadata": {
        "id": "JV5YbbVNlCLl"
      },
      "source": [
        "# Advanced Automation - Assignment 1\n",
        "\n",
        "To be delivered until 2023-12-10 23:59:59."
      ]
    },
    {
      "cell_type": "markdown",
      "metadata": {
        "id": "A746fsNRldR4"
      },
      "source": [
        "## Section 1 -- Linear Regression\n",
        "\n",
        "**1.** Consider a dataset with 100 observations, containing a single predictor and a quantitative response. Two different models are fitted to the data, a linear regression ($m_1: Y = \\beta_0 + \\beta_1 X + \\epsilon$) and a cubic regression ($m_2: Y = \\beta_0 + \\beta_1 X + \\beta_2 X^2 + \\beta_3 X^3 + \\epsilon$)."
      ]
    },
    {
      "cell_type": "markdown",
      "metadata": {
        "id": "gOuCfx3sm8hZ"
      },
      "source": [
        "**1.a)** Suppose that the actual relation between X and Y is linear. Can the **training** residual sum of squares (RSS) of the linear model be expected to be smaller, larger or equal to the one from the cubic model? Or is there no information to tell? Justify your answer."
      ]
    },
    {
      "cell_type": "markdown",
      "metadata": {
        "id": "h6V7QbAN6BIt"
      },
      "source": [
        "A model with an order higher than that of another model will have a greater flexiblity, making it fit to the training data better, which results in its training RSS being smaller when compared with the one of a model of lower order. Taking this into account, <u>the training RSS will be higher for the linear model</u>, when compared with the cubic one."
      ]
    },
    {
      "cell_type": "markdown",
      "metadata": {
        "id": "f-Z6e3nem88s"
      },
      "source": [
        "**1.b)** Answer question 1.a) considering the test RSS rather than the training RSS."
      ]
    },
    {
      "cell_type": "markdown",
      "metadata": {
        "id": "8Ng5yyIL7sUE"
      },
      "source": [
        "In this case, we know that the actual relation between X and Y is linear. So the true regression function is linear, meaning that there is only a small decrease in bias as flexibility increases (i.e., the order of the model increases), and so the test RSS declines slightly before rapidly increasing as the variance increases. Therefore, the linear model will produce more accurate predictions when compared to the cubic model. Consequently, it is expected that <u>the test RSS will be smaller for the linear model</u>, when compared to the cubic one."
      ]
    },
    {
      "cell_type": "markdown",
      "metadata": {
        "id": "gmhX35ckm9St"
      },
      "source": [
        "**1.c)** Suppose that the actual relationship between X and Y is not linear, but it is not known how far it is from being linear. What is it expected of the **training** RSS for the linear compared with the cubic models? Or is there not enough information? Justify your answer."
      ]
    },
    {
      "cell_type": "markdown",
      "metadata": {
        "id": "l3JRaXd28SUz"
      },
      "source": [
        "In this case, we don't have enough information to know the actual relation between X and Y. That being said, the order could either be fractional, quadratic, cubic or take any other higher value. Since the cubic model has a higher order, it will fit better to the data, regardless of the order of the relation between X and Y, when comparing with the linear model. In conclusion, <u>the training RSS is higher for the linear model</u>, in comparision with the cubic model."
      ]
    },
    {
      "cell_type": "markdown",
      "metadata": {
        "id": "68b9Gt-Sm9lp"
      },
      "source": [
        "**1.d)** Answer question 1.c) considering the test RSS rather than the training RSS."
      ]
    },
    {
      "cell_type": "markdown",
      "metadata": {
        "id": "FWjI9xe36tk2"
      },
      "source": [
        "As stated before, in this case we don't know the order of the relation between X and Y, so we can't fully assess the Bias-Variance Tradeoff, because, if the true relation between X and Y is close to linear, there will only be a small decrease in bias as flexibility increases, and so the test RSS declines slighty before rapidly increasing. But if the true relation between X and Y is, for instance, cubic, the linear model will be too biased to produce very accurate results. In short, <u> we don't have enough information</u> to compare the test RSS between the linear and cubic models."
      ]
    },
    {
      "cell_type": "markdown",
      "metadata": {
        "id": "X0Shm3lZfkBC"
      },
      "source": [
        "**2.** Consider now the Palmer Archipelago penguin data. It consists of physical measurements of male and female adult penguins from three species that live in three different islands of the Palmer Archipelago in Antarctica."
      ]
    },
    {
      "cell_type": "code",
      "source": [
        "from google.colab import drive\n",
        "drive.mount(\"/content/drive\")"
      ],
      "metadata": {
        "colab": {
          "base_uri": "https://localhost:8080/"
        },
        "id": "lt4AhkoX76aq",
        "outputId": "75dccc34-28bc-479c-af7c-a6462e4f7711"
      },
      "execution_count": null,
      "outputs": [
        {
          "output_type": "stream",
          "name": "stdout",
          "text": [
            "Drive already mounted at /content/drive; to attempt to forcibly remount, call drive.mount(\"/content/drive\", force_remount=True).\n"
          ]
        }
      ]
    },
    {
      "cell_type": "markdown",
      "metadata": {
        "id": "JlY6gihzHUm5"
      },
      "source": [
        "**2.a)** Load the dataset `penguins_size.csv`."
      ]
    },
    {
      "cell_type": "code",
      "execution_count": 3,
      "metadata": {
        "colab": {
          "base_uri": "https://localhost:8080/",
          "height": 206
        },
        "id": "UJxs-3Vp9IhJ",
        "outputId": "bc794016-3fec-489e-e39f-169ff7e2fde4"
      },
      "outputs": [
        {
          "output_type": "execute_result",
          "data": {
            "text/plain": [
              "  species     island  culmen_length_mm  culmen_depth_mm  flipper_length_mm  \\\n",
              "0  Adelie  Torgersen              39.1             18.7              181.0   \n",
              "1  Adelie  Torgersen              39.5             17.4              186.0   \n",
              "2  Adelie  Torgersen              40.3             18.0              195.0   \n",
              "3  Adelie  Torgersen               NaN              NaN                NaN   \n",
              "4  Adelie  Torgersen              36.7             19.3              193.0   \n",
              "\n",
              "   body_mass_g     sex  \n",
              "0       3750.0    MALE  \n",
              "1       3800.0  FEMALE  \n",
              "2       3250.0  FEMALE  \n",
              "3          NaN     NaN  \n",
              "4       3450.0  FEMALE  "
            ],
            "text/html": [
              "\n",
              "  <div id=\"df-46180a4d-7345-4c63-88c8-2a20add24e7c\" class=\"colab-df-container\">\n",
              "    <div>\n",
              "<style scoped>\n",
              "    .dataframe tbody tr th:only-of-type {\n",
              "        vertical-align: middle;\n",
              "    }\n",
              "\n",
              "    .dataframe tbody tr th {\n",
              "        vertical-align: top;\n",
              "    }\n",
              "\n",
              "    .dataframe thead th {\n",
              "        text-align: right;\n",
              "    }\n",
              "</style>\n",
              "<table border=\"1\" class=\"dataframe\">\n",
              "  <thead>\n",
              "    <tr style=\"text-align: right;\">\n",
              "      <th></th>\n",
              "      <th>species</th>\n",
              "      <th>island</th>\n",
              "      <th>culmen_length_mm</th>\n",
              "      <th>culmen_depth_mm</th>\n",
              "      <th>flipper_length_mm</th>\n",
              "      <th>body_mass_g</th>\n",
              "      <th>sex</th>\n",
              "    </tr>\n",
              "  </thead>\n",
              "  <tbody>\n",
              "    <tr>\n",
              "      <th>0</th>\n",
              "      <td>Adelie</td>\n",
              "      <td>Torgersen</td>\n",
              "      <td>39.1</td>\n",
              "      <td>18.7</td>\n",
              "      <td>181.0</td>\n",
              "      <td>3750.0</td>\n",
              "      <td>MALE</td>\n",
              "    </tr>\n",
              "    <tr>\n",
              "      <th>1</th>\n",
              "      <td>Adelie</td>\n",
              "      <td>Torgersen</td>\n",
              "      <td>39.5</td>\n",
              "      <td>17.4</td>\n",
              "      <td>186.0</td>\n",
              "      <td>3800.0</td>\n",
              "      <td>FEMALE</td>\n",
              "    </tr>\n",
              "    <tr>\n",
              "      <th>2</th>\n",
              "      <td>Adelie</td>\n",
              "      <td>Torgersen</td>\n",
              "      <td>40.3</td>\n",
              "      <td>18.0</td>\n",
              "      <td>195.0</td>\n",
              "      <td>3250.0</td>\n",
              "      <td>FEMALE</td>\n",
              "    </tr>\n",
              "    <tr>\n",
              "      <th>3</th>\n",
              "      <td>Adelie</td>\n",
              "      <td>Torgersen</td>\n",
              "      <td>NaN</td>\n",
              "      <td>NaN</td>\n",
              "      <td>NaN</td>\n",
              "      <td>NaN</td>\n",
              "      <td>NaN</td>\n",
              "    </tr>\n",
              "    <tr>\n",
              "      <th>4</th>\n",
              "      <td>Adelie</td>\n",
              "      <td>Torgersen</td>\n",
              "      <td>36.7</td>\n",
              "      <td>19.3</td>\n",
              "      <td>193.0</td>\n",
              "      <td>3450.0</td>\n",
              "      <td>FEMALE</td>\n",
              "    </tr>\n",
              "  </tbody>\n",
              "</table>\n",
              "</div>\n",
              "    <div class=\"colab-df-buttons\">\n",
              "\n",
              "  <div class=\"colab-df-container\">\n",
              "    <button class=\"colab-df-convert\" onclick=\"convertToInteractive('df-46180a4d-7345-4c63-88c8-2a20add24e7c')\"\n",
              "            title=\"Convert this dataframe to an interactive table.\"\n",
              "            style=\"display:none;\">\n",
              "\n",
              "  <svg xmlns=\"http://www.w3.org/2000/svg\" height=\"24px\" viewBox=\"0 -960 960 960\">\n",
              "    <path d=\"M120-120v-720h720v720H120Zm60-500h600v-160H180v160Zm220 220h160v-160H400v160Zm0 220h160v-160H400v160ZM180-400h160v-160H180v160Zm440 0h160v-160H620v160ZM180-180h160v-160H180v160Zm440 0h160v-160H620v160Z\"/>\n",
              "  </svg>\n",
              "    </button>\n",
              "\n",
              "  <style>\n",
              "    .colab-df-container {\n",
              "      display:flex;\n",
              "      gap: 12px;\n",
              "    }\n",
              "\n",
              "    .colab-df-convert {\n",
              "      background-color: #E8F0FE;\n",
              "      border: none;\n",
              "      border-radius: 50%;\n",
              "      cursor: pointer;\n",
              "      display: none;\n",
              "      fill: #1967D2;\n",
              "      height: 32px;\n",
              "      padding: 0 0 0 0;\n",
              "      width: 32px;\n",
              "    }\n",
              "\n",
              "    .colab-df-convert:hover {\n",
              "      background-color: #E2EBFA;\n",
              "      box-shadow: 0px 1px 2px rgba(60, 64, 67, 0.3), 0px 1px 3px 1px rgba(60, 64, 67, 0.15);\n",
              "      fill: #174EA6;\n",
              "    }\n",
              "\n",
              "    .colab-df-buttons div {\n",
              "      margin-bottom: 4px;\n",
              "    }\n",
              "\n",
              "    [theme=dark] .colab-df-convert {\n",
              "      background-color: #3B4455;\n",
              "      fill: #D2E3FC;\n",
              "    }\n",
              "\n",
              "    [theme=dark] .colab-df-convert:hover {\n",
              "      background-color: #434B5C;\n",
              "      box-shadow: 0px 1px 3px 1px rgba(0, 0, 0, 0.15);\n",
              "      filter: drop-shadow(0px 1px 2px rgba(0, 0, 0, 0.3));\n",
              "      fill: #FFFFFF;\n",
              "    }\n",
              "  </style>\n",
              "\n",
              "    <script>\n",
              "      const buttonEl =\n",
              "        document.querySelector('#df-46180a4d-7345-4c63-88c8-2a20add24e7c button.colab-df-convert');\n",
              "      buttonEl.style.display =\n",
              "        google.colab.kernel.accessAllowed ? 'block' : 'none';\n",
              "\n",
              "      async function convertToInteractive(key) {\n",
              "        const element = document.querySelector('#df-46180a4d-7345-4c63-88c8-2a20add24e7c');\n",
              "        const dataTable =\n",
              "          await google.colab.kernel.invokeFunction('convertToInteractive',\n",
              "                                                    [key], {});\n",
              "        if (!dataTable) return;\n",
              "\n",
              "        const docLinkHtml = 'Like what you see? Visit the ' +\n",
              "          '<a target=\"_blank\" href=https://colab.research.google.com/notebooks/data_table.ipynb>data table notebook</a>'\n",
              "          + ' to learn more about interactive tables.';\n",
              "        element.innerHTML = '';\n",
              "        dataTable['output_type'] = 'display_data';\n",
              "        await google.colab.output.renderOutput(dataTable, element);\n",
              "        const docLink = document.createElement('div');\n",
              "        docLink.innerHTML = docLinkHtml;\n",
              "        element.appendChild(docLink);\n",
              "      }\n",
              "    </script>\n",
              "  </div>\n",
              "\n",
              "\n",
              "<div id=\"df-d62e4a12-8709-4cb1-838e-b3501052593b\">\n",
              "  <button class=\"colab-df-quickchart\" onclick=\"quickchart('df-d62e4a12-8709-4cb1-838e-b3501052593b')\"\n",
              "            title=\"Suggest charts\"\n",
              "            style=\"display:none;\">\n",
              "\n",
              "<svg xmlns=\"http://www.w3.org/2000/svg\" height=\"24px\"viewBox=\"0 0 24 24\"\n",
              "     width=\"24px\">\n",
              "    <g>\n",
              "        <path d=\"M19 3H5c-1.1 0-2 .9-2 2v14c0 1.1.9 2 2 2h14c1.1 0 2-.9 2-2V5c0-1.1-.9-2-2-2zM9 17H7v-7h2v7zm4 0h-2V7h2v10zm4 0h-2v-4h2v4z\"/>\n",
              "    </g>\n",
              "</svg>\n",
              "  </button>\n",
              "\n",
              "<style>\n",
              "  .colab-df-quickchart {\n",
              "      --bg-color: #E8F0FE;\n",
              "      --fill-color: #1967D2;\n",
              "      --hover-bg-color: #E2EBFA;\n",
              "      --hover-fill-color: #174EA6;\n",
              "      --disabled-fill-color: #AAA;\n",
              "      --disabled-bg-color: #DDD;\n",
              "  }\n",
              "\n",
              "  [theme=dark] .colab-df-quickchart {\n",
              "      --bg-color: #3B4455;\n",
              "      --fill-color: #D2E3FC;\n",
              "      --hover-bg-color: #434B5C;\n",
              "      --hover-fill-color: #FFFFFF;\n",
              "      --disabled-bg-color: #3B4455;\n",
              "      --disabled-fill-color: #666;\n",
              "  }\n",
              "\n",
              "  .colab-df-quickchart {\n",
              "    background-color: var(--bg-color);\n",
              "    border: none;\n",
              "    border-radius: 50%;\n",
              "    cursor: pointer;\n",
              "    display: none;\n",
              "    fill: var(--fill-color);\n",
              "    height: 32px;\n",
              "    padding: 0;\n",
              "    width: 32px;\n",
              "  }\n",
              "\n",
              "  .colab-df-quickchart:hover {\n",
              "    background-color: var(--hover-bg-color);\n",
              "    box-shadow: 0 1px 2px rgba(60, 64, 67, 0.3), 0 1px 3px 1px rgba(60, 64, 67, 0.15);\n",
              "    fill: var(--button-hover-fill-color);\n",
              "  }\n",
              "\n",
              "  .colab-df-quickchart-complete:disabled,\n",
              "  .colab-df-quickchart-complete:disabled:hover {\n",
              "    background-color: var(--disabled-bg-color);\n",
              "    fill: var(--disabled-fill-color);\n",
              "    box-shadow: none;\n",
              "  }\n",
              "\n",
              "  .colab-df-spinner {\n",
              "    border: 2px solid var(--fill-color);\n",
              "    border-color: transparent;\n",
              "    border-bottom-color: var(--fill-color);\n",
              "    animation:\n",
              "      spin 1s steps(1) infinite;\n",
              "  }\n",
              "\n",
              "  @keyframes spin {\n",
              "    0% {\n",
              "      border-color: transparent;\n",
              "      border-bottom-color: var(--fill-color);\n",
              "      border-left-color: var(--fill-color);\n",
              "    }\n",
              "    20% {\n",
              "      border-color: transparent;\n",
              "      border-left-color: var(--fill-color);\n",
              "      border-top-color: var(--fill-color);\n",
              "    }\n",
              "    30% {\n",
              "      border-color: transparent;\n",
              "      border-left-color: var(--fill-color);\n",
              "      border-top-color: var(--fill-color);\n",
              "      border-right-color: var(--fill-color);\n",
              "    }\n",
              "    40% {\n",
              "      border-color: transparent;\n",
              "      border-right-color: var(--fill-color);\n",
              "      border-top-color: var(--fill-color);\n",
              "    }\n",
              "    60% {\n",
              "      border-color: transparent;\n",
              "      border-right-color: var(--fill-color);\n",
              "    }\n",
              "    80% {\n",
              "      border-color: transparent;\n",
              "      border-right-color: var(--fill-color);\n",
              "      border-bottom-color: var(--fill-color);\n",
              "    }\n",
              "    90% {\n",
              "      border-color: transparent;\n",
              "      border-bottom-color: var(--fill-color);\n",
              "    }\n",
              "  }\n",
              "</style>\n",
              "\n",
              "  <script>\n",
              "    async function quickchart(key) {\n",
              "      const quickchartButtonEl =\n",
              "        document.querySelector('#' + key + ' button');\n",
              "      quickchartButtonEl.disabled = true;  // To prevent multiple clicks.\n",
              "      quickchartButtonEl.classList.add('colab-df-spinner');\n",
              "      try {\n",
              "        const charts = await google.colab.kernel.invokeFunction(\n",
              "            'suggestCharts', [key], {});\n",
              "      } catch (error) {\n",
              "        console.error('Error during call to suggestCharts:', error);\n",
              "      }\n",
              "      quickchartButtonEl.classList.remove('colab-df-spinner');\n",
              "      quickchartButtonEl.classList.add('colab-df-quickchart-complete');\n",
              "    }\n",
              "    (() => {\n",
              "      let quickchartButtonEl =\n",
              "        document.querySelector('#df-d62e4a12-8709-4cb1-838e-b3501052593b button');\n",
              "      quickchartButtonEl.style.display =\n",
              "        google.colab.kernel.accessAllowed ? 'block' : 'none';\n",
              "    })();\n",
              "  </script>\n",
              "</div>\n",
              "    </div>\n",
              "  </div>\n"
            ]
          },
          "metadata": {},
          "execution_count": 3
        }
      ],
      "source": [
        "import numpy as np\n",
        "import pandas as pd\n",
        "import sklearn\n",
        "import matplotlib.pyplot as plt\n",
        "import seaborn as sns\n",
        "import scipy\n",
        "import os\n",
        "df = pd.read_csv(os.path.abspath('penguins_size.csv'))\n",
        "df.head()"
      ]
    },
    {
      "cell_type": "markdown",
      "metadata": {
        "id": "HxNnBERtfkBD"
      },
      "source": [
        "#### **2.b)** Discard any row that has a missing value."
      ]
    },
    {
      "cell_type": "code",
      "execution_count": 6,
      "metadata": {
        "id": "O9lTwg2pfkBD",
        "colab": {
          "base_uri": "https://localhost:8080/",
          "height": 677
        },
        "outputId": "d3ab7353-a2b9-4538-d81d-7a5670f5b1d7"
      },
      "outputs": [
        {
          "output_type": "execute_result",
          "data": {
            "text/plain": [
              "   species     island  culmen_length_mm  culmen_depth_mm  flipper_length_mm  \\\n",
              "0   Adelie  Torgersen              39.1             18.7              181.0   \n",
              "1   Adelie  Torgersen              39.5             17.4              186.0   \n",
              "2   Adelie  Torgersen              40.3             18.0              195.0   \n",
              "4   Adelie  Torgersen              36.7             19.3              193.0   \n",
              "5   Adelie  Torgersen              39.3             20.6              190.0   \n",
              "6   Adelie  Torgersen              38.9             17.8              181.0   \n",
              "7   Adelie  Torgersen              39.2             19.6              195.0   \n",
              "12  Adelie  Torgersen              41.1             17.6              182.0   \n",
              "13  Adelie  Torgersen              38.6             21.2              191.0   \n",
              "14  Adelie  Torgersen              34.6             21.1              198.0   \n",
              "15  Adelie  Torgersen              36.6             17.8              185.0   \n",
              "16  Adelie  Torgersen              38.7             19.0              195.0   \n",
              "17  Adelie  Torgersen              42.5             20.7              197.0   \n",
              "18  Adelie  Torgersen              34.4             18.4              184.0   \n",
              "19  Adelie  Torgersen              46.0             21.5              194.0   \n",
              "20  Adelie     Biscoe              37.8             18.3              174.0   \n",
              "21  Adelie     Biscoe              37.7             18.7              180.0   \n",
              "22  Adelie     Biscoe              35.9             19.2              189.0   \n",
              "23  Adelie     Biscoe              38.2             18.1              185.0   \n",
              "24  Adelie     Biscoe              38.8             17.2              180.0   \n",
              "\n",
              "    body_mass_g     sex  \n",
              "0        3750.0    MALE  \n",
              "1        3800.0  FEMALE  \n",
              "2        3250.0  FEMALE  \n",
              "4        3450.0  FEMALE  \n",
              "5        3650.0    MALE  \n",
              "6        3625.0  FEMALE  \n",
              "7        4675.0    MALE  \n",
              "12       3200.0  FEMALE  \n",
              "13       3800.0    MALE  \n",
              "14       4400.0    MALE  \n",
              "15       3700.0  FEMALE  \n",
              "16       3450.0  FEMALE  \n",
              "17       4500.0    MALE  \n",
              "18       3325.0  FEMALE  \n",
              "19       4200.0    MALE  \n",
              "20       3400.0  FEMALE  \n",
              "21       3600.0    MALE  \n",
              "22       3800.0  FEMALE  \n",
              "23       3950.0    MALE  \n",
              "24       3800.0    MALE  "
            ],
            "text/html": [
              "\n",
              "  <div id=\"df-a41dc0dd-e3f5-4f91-873d-bc52d22d631e\" class=\"colab-df-container\">\n",
              "    <div>\n",
              "<style scoped>\n",
              "    .dataframe tbody tr th:only-of-type {\n",
              "        vertical-align: middle;\n",
              "    }\n",
              "\n",
              "    .dataframe tbody tr th {\n",
              "        vertical-align: top;\n",
              "    }\n",
              "\n",
              "    .dataframe thead th {\n",
              "        text-align: right;\n",
              "    }\n",
              "</style>\n",
              "<table border=\"1\" class=\"dataframe\">\n",
              "  <thead>\n",
              "    <tr style=\"text-align: right;\">\n",
              "      <th></th>\n",
              "      <th>species</th>\n",
              "      <th>island</th>\n",
              "      <th>culmen_length_mm</th>\n",
              "      <th>culmen_depth_mm</th>\n",
              "      <th>flipper_length_mm</th>\n",
              "      <th>body_mass_g</th>\n",
              "      <th>sex</th>\n",
              "    </tr>\n",
              "  </thead>\n",
              "  <tbody>\n",
              "    <tr>\n",
              "      <th>0</th>\n",
              "      <td>Adelie</td>\n",
              "      <td>Torgersen</td>\n",
              "      <td>39.1</td>\n",
              "      <td>18.7</td>\n",
              "      <td>181.0</td>\n",
              "      <td>3750.0</td>\n",
              "      <td>MALE</td>\n",
              "    </tr>\n",
              "    <tr>\n",
              "      <th>1</th>\n",
              "      <td>Adelie</td>\n",
              "      <td>Torgersen</td>\n",
              "      <td>39.5</td>\n",
              "      <td>17.4</td>\n",
              "      <td>186.0</td>\n",
              "      <td>3800.0</td>\n",
              "      <td>FEMALE</td>\n",
              "    </tr>\n",
              "    <tr>\n",
              "      <th>2</th>\n",
              "      <td>Adelie</td>\n",
              "      <td>Torgersen</td>\n",
              "      <td>40.3</td>\n",
              "      <td>18.0</td>\n",
              "      <td>195.0</td>\n",
              "      <td>3250.0</td>\n",
              "      <td>FEMALE</td>\n",
              "    </tr>\n",
              "    <tr>\n",
              "      <th>4</th>\n",
              "      <td>Adelie</td>\n",
              "      <td>Torgersen</td>\n",
              "      <td>36.7</td>\n",
              "      <td>19.3</td>\n",
              "      <td>193.0</td>\n",
              "      <td>3450.0</td>\n",
              "      <td>FEMALE</td>\n",
              "    </tr>\n",
              "    <tr>\n",
              "      <th>5</th>\n",
              "      <td>Adelie</td>\n",
              "      <td>Torgersen</td>\n",
              "      <td>39.3</td>\n",
              "      <td>20.6</td>\n",
              "      <td>190.0</td>\n",
              "      <td>3650.0</td>\n",
              "      <td>MALE</td>\n",
              "    </tr>\n",
              "    <tr>\n",
              "      <th>6</th>\n",
              "      <td>Adelie</td>\n",
              "      <td>Torgersen</td>\n",
              "      <td>38.9</td>\n",
              "      <td>17.8</td>\n",
              "      <td>181.0</td>\n",
              "      <td>3625.0</td>\n",
              "      <td>FEMALE</td>\n",
              "    </tr>\n",
              "    <tr>\n",
              "      <th>7</th>\n",
              "      <td>Adelie</td>\n",
              "      <td>Torgersen</td>\n",
              "      <td>39.2</td>\n",
              "      <td>19.6</td>\n",
              "      <td>195.0</td>\n",
              "      <td>4675.0</td>\n",
              "      <td>MALE</td>\n",
              "    </tr>\n",
              "    <tr>\n",
              "      <th>12</th>\n",
              "      <td>Adelie</td>\n",
              "      <td>Torgersen</td>\n",
              "      <td>41.1</td>\n",
              "      <td>17.6</td>\n",
              "      <td>182.0</td>\n",
              "      <td>3200.0</td>\n",
              "      <td>FEMALE</td>\n",
              "    </tr>\n",
              "    <tr>\n",
              "      <th>13</th>\n",
              "      <td>Adelie</td>\n",
              "      <td>Torgersen</td>\n",
              "      <td>38.6</td>\n",
              "      <td>21.2</td>\n",
              "      <td>191.0</td>\n",
              "      <td>3800.0</td>\n",
              "      <td>MALE</td>\n",
              "    </tr>\n",
              "    <tr>\n",
              "      <th>14</th>\n",
              "      <td>Adelie</td>\n",
              "      <td>Torgersen</td>\n",
              "      <td>34.6</td>\n",
              "      <td>21.1</td>\n",
              "      <td>198.0</td>\n",
              "      <td>4400.0</td>\n",
              "      <td>MALE</td>\n",
              "    </tr>\n",
              "    <tr>\n",
              "      <th>15</th>\n",
              "      <td>Adelie</td>\n",
              "      <td>Torgersen</td>\n",
              "      <td>36.6</td>\n",
              "      <td>17.8</td>\n",
              "      <td>185.0</td>\n",
              "      <td>3700.0</td>\n",
              "      <td>FEMALE</td>\n",
              "    </tr>\n",
              "    <tr>\n",
              "      <th>16</th>\n",
              "      <td>Adelie</td>\n",
              "      <td>Torgersen</td>\n",
              "      <td>38.7</td>\n",
              "      <td>19.0</td>\n",
              "      <td>195.0</td>\n",
              "      <td>3450.0</td>\n",
              "      <td>FEMALE</td>\n",
              "    </tr>\n",
              "    <tr>\n",
              "      <th>17</th>\n",
              "      <td>Adelie</td>\n",
              "      <td>Torgersen</td>\n",
              "      <td>42.5</td>\n",
              "      <td>20.7</td>\n",
              "      <td>197.0</td>\n",
              "      <td>4500.0</td>\n",
              "      <td>MALE</td>\n",
              "    </tr>\n",
              "    <tr>\n",
              "      <th>18</th>\n",
              "      <td>Adelie</td>\n",
              "      <td>Torgersen</td>\n",
              "      <td>34.4</td>\n",
              "      <td>18.4</td>\n",
              "      <td>184.0</td>\n",
              "      <td>3325.0</td>\n",
              "      <td>FEMALE</td>\n",
              "    </tr>\n",
              "    <tr>\n",
              "      <th>19</th>\n",
              "      <td>Adelie</td>\n",
              "      <td>Torgersen</td>\n",
              "      <td>46.0</td>\n",
              "      <td>21.5</td>\n",
              "      <td>194.0</td>\n",
              "      <td>4200.0</td>\n",
              "      <td>MALE</td>\n",
              "    </tr>\n",
              "    <tr>\n",
              "      <th>20</th>\n",
              "      <td>Adelie</td>\n",
              "      <td>Biscoe</td>\n",
              "      <td>37.8</td>\n",
              "      <td>18.3</td>\n",
              "      <td>174.0</td>\n",
              "      <td>3400.0</td>\n",
              "      <td>FEMALE</td>\n",
              "    </tr>\n",
              "    <tr>\n",
              "      <th>21</th>\n",
              "      <td>Adelie</td>\n",
              "      <td>Biscoe</td>\n",
              "      <td>37.7</td>\n",
              "      <td>18.7</td>\n",
              "      <td>180.0</td>\n",
              "      <td>3600.0</td>\n",
              "      <td>MALE</td>\n",
              "    </tr>\n",
              "    <tr>\n",
              "      <th>22</th>\n",
              "      <td>Adelie</td>\n",
              "      <td>Biscoe</td>\n",
              "      <td>35.9</td>\n",
              "      <td>19.2</td>\n",
              "      <td>189.0</td>\n",
              "      <td>3800.0</td>\n",
              "      <td>FEMALE</td>\n",
              "    </tr>\n",
              "    <tr>\n",
              "      <th>23</th>\n",
              "      <td>Adelie</td>\n",
              "      <td>Biscoe</td>\n",
              "      <td>38.2</td>\n",
              "      <td>18.1</td>\n",
              "      <td>185.0</td>\n",
              "      <td>3950.0</td>\n",
              "      <td>MALE</td>\n",
              "    </tr>\n",
              "    <tr>\n",
              "      <th>24</th>\n",
              "      <td>Adelie</td>\n",
              "      <td>Biscoe</td>\n",
              "      <td>38.8</td>\n",
              "      <td>17.2</td>\n",
              "      <td>180.0</td>\n",
              "      <td>3800.0</td>\n",
              "      <td>MALE</td>\n",
              "    </tr>\n",
              "  </tbody>\n",
              "</table>\n",
              "</div>\n",
              "    <div class=\"colab-df-buttons\">\n",
              "\n",
              "  <div class=\"colab-df-container\">\n",
              "    <button class=\"colab-df-convert\" onclick=\"convertToInteractive('df-a41dc0dd-e3f5-4f91-873d-bc52d22d631e')\"\n",
              "            title=\"Convert this dataframe to an interactive table.\"\n",
              "            style=\"display:none;\">\n",
              "\n",
              "  <svg xmlns=\"http://www.w3.org/2000/svg\" height=\"24px\" viewBox=\"0 -960 960 960\">\n",
              "    <path d=\"M120-120v-720h720v720H120Zm60-500h600v-160H180v160Zm220 220h160v-160H400v160Zm0 220h160v-160H400v160ZM180-400h160v-160H180v160Zm440 0h160v-160H620v160ZM180-180h160v-160H180v160Zm440 0h160v-160H620v160Z\"/>\n",
              "  </svg>\n",
              "    </button>\n",
              "\n",
              "  <style>\n",
              "    .colab-df-container {\n",
              "      display:flex;\n",
              "      gap: 12px;\n",
              "    }\n",
              "\n",
              "    .colab-df-convert {\n",
              "      background-color: #E8F0FE;\n",
              "      border: none;\n",
              "      border-radius: 50%;\n",
              "      cursor: pointer;\n",
              "      display: none;\n",
              "      fill: #1967D2;\n",
              "      height: 32px;\n",
              "      padding: 0 0 0 0;\n",
              "      width: 32px;\n",
              "    }\n",
              "\n",
              "    .colab-df-convert:hover {\n",
              "      background-color: #E2EBFA;\n",
              "      box-shadow: 0px 1px 2px rgba(60, 64, 67, 0.3), 0px 1px 3px 1px rgba(60, 64, 67, 0.15);\n",
              "      fill: #174EA6;\n",
              "    }\n",
              "\n",
              "    .colab-df-buttons div {\n",
              "      margin-bottom: 4px;\n",
              "    }\n",
              "\n",
              "    [theme=dark] .colab-df-convert {\n",
              "      background-color: #3B4455;\n",
              "      fill: #D2E3FC;\n",
              "    }\n",
              "\n",
              "    [theme=dark] .colab-df-convert:hover {\n",
              "      background-color: #434B5C;\n",
              "      box-shadow: 0px 1px 3px 1px rgba(0, 0, 0, 0.15);\n",
              "      filter: drop-shadow(0px 1px 2px rgba(0, 0, 0, 0.3));\n",
              "      fill: #FFFFFF;\n",
              "    }\n",
              "  </style>\n",
              "\n",
              "    <script>\n",
              "      const buttonEl =\n",
              "        document.querySelector('#df-a41dc0dd-e3f5-4f91-873d-bc52d22d631e button.colab-df-convert');\n",
              "      buttonEl.style.display =\n",
              "        google.colab.kernel.accessAllowed ? 'block' : 'none';\n",
              "\n",
              "      async function convertToInteractive(key) {\n",
              "        const element = document.querySelector('#df-a41dc0dd-e3f5-4f91-873d-bc52d22d631e');\n",
              "        const dataTable =\n",
              "          await google.colab.kernel.invokeFunction('convertToInteractive',\n",
              "                                                    [key], {});\n",
              "        if (!dataTable) return;\n",
              "\n",
              "        const docLinkHtml = 'Like what you see? Visit the ' +\n",
              "          '<a target=\"_blank\" href=https://colab.research.google.com/notebooks/data_table.ipynb>data table notebook</a>'\n",
              "          + ' to learn more about interactive tables.';\n",
              "        element.innerHTML = '';\n",
              "        dataTable['output_type'] = 'display_data';\n",
              "        await google.colab.output.renderOutput(dataTable, element);\n",
              "        const docLink = document.createElement('div');\n",
              "        docLink.innerHTML = docLinkHtml;\n",
              "        element.appendChild(docLink);\n",
              "      }\n",
              "    </script>\n",
              "  </div>\n",
              "\n",
              "\n",
              "<div id=\"df-353754ac-409c-4447-b26d-cd4e3bbd982d\">\n",
              "  <button class=\"colab-df-quickchart\" onclick=\"quickchart('df-353754ac-409c-4447-b26d-cd4e3bbd982d')\"\n",
              "            title=\"Suggest charts\"\n",
              "            style=\"display:none;\">\n",
              "\n",
              "<svg xmlns=\"http://www.w3.org/2000/svg\" height=\"24px\"viewBox=\"0 0 24 24\"\n",
              "     width=\"24px\">\n",
              "    <g>\n",
              "        <path d=\"M19 3H5c-1.1 0-2 .9-2 2v14c0 1.1.9 2 2 2h14c1.1 0 2-.9 2-2V5c0-1.1-.9-2-2-2zM9 17H7v-7h2v7zm4 0h-2V7h2v10zm4 0h-2v-4h2v4z\"/>\n",
              "    </g>\n",
              "</svg>\n",
              "  </button>\n",
              "\n",
              "<style>\n",
              "  .colab-df-quickchart {\n",
              "      --bg-color: #E8F0FE;\n",
              "      --fill-color: #1967D2;\n",
              "      --hover-bg-color: #E2EBFA;\n",
              "      --hover-fill-color: #174EA6;\n",
              "      --disabled-fill-color: #AAA;\n",
              "      --disabled-bg-color: #DDD;\n",
              "  }\n",
              "\n",
              "  [theme=dark] .colab-df-quickchart {\n",
              "      --bg-color: #3B4455;\n",
              "      --fill-color: #D2E3FC;\n",
              "      --hover-bg-color: #434B5C;\n",
              "      --hover-fill-color: #FFFFFF;\n",
              "      --disabled-bg-color: #3B4455;\n",
              "      --disabled-fill-color: #666;\n",
              "  }\n",
              "\n",
              "  .colab-df-quickchart {\n",
              "    background-color: var(--bg-color);\n",
              "    border: none;\n",
              "    border-radius: 50%;\n",
              "    cursor: pointer;\n",
              "    display: none;\n",
              "    fill: var(--fill-color);\n",
              "    height: 32px;\n",
              "    padding: 0;\n",
              "    width: 32px;\n",
              "  }\n",
              "\n",
              "  .colab-df-quickchart:hover {\n",
              "    background-color: var(--hover-bg-color);\n",
              "    box-shadow: 0 1px 2px rgba(60, 64, 67, 0.3), 0 1px 3px 1px rgba(60, 64, 67, 0.15);\n",
              "    fill: var(--button-hover-fill-color);\n",
              "  }\n",
              "\n",
              "  .colab-df-quickchart-complete:disabled,\n",
              "  .colab-df-quickchart-complete:disabled:hover {\n",
              "    background-color: var(--disabled-bg-color);\n",
              "    fill: var(--disabled-fill-color);\n",
              "    box-shadow: none;\n",
              "  }\n",
              "\n",
              "  .colab-df-spinner {\n",
              "    border: 2px solid var(--fill-color);\n",
              "    border-color: transparent;\n",
              "    border-bottom-color: var(--fill-color);\n",
              "    animation:\n",
              "      spin 1s steps(1) infinite;\n",
              "  }\n",
              "\n",
              "  @keyframes spin {\n",
              "    0% {\n",
              "      border-color: transparent;\n",
              "      border-bottom-color: var(--fill-color);\n",
              "      border-left-color: var(--fill-color);\n",
              "    }\n",
              "    20% {\n",
              "      border-color: transparent;\n",
              "      border-left-color: var(--fill-color);\n",
              "      border-top-color: var(--fill-color);\n",
              "    }\n",
              "    30% {\n",
              "      border-color: transparent;\n",
              "      border-left-color: var(--fill-color);\n",
              "      border-top-color: var(--fill-color);\n",
              "      border-right-color: var(--fill-color);\n",
              "    }\n",
              "    40% {\n",
              "      border-color: transparent;\n",
              "      border-right-color: var(--fill-color);\n",
              "      border-top-color: var(--fill-color);\n",
              "    }\n",
              "    60% {\n",
              "      border-color: transparent;\n",
              "      border-right-color: var(--fill-color);\n",
              "    }\n",
              "    80% {\n",
              "      border-color: transparent;\n",
              "      border-right-color: var(--fill-color);\n",
              "      border-bottom-color: var(--fill-color);\n",
              "    }\n",
              "    90% {\n",
              "      border-color: transparent;\n",
              "      border-bottom-color: var(--fill-color);\n",
              "    }\n",
              "  }\n",
              "</style>\n",
              "\n",
              "  <script>\n",
              "    async function quickchart(key) {\n",
              "      const quickchartButtonEl =\n",
              "        document.querySelector('#' + key + ' button');\n",
              "      quickchartButtonEl.disabled = true;  // To prevent multiple clicks.\n",
              "      quickchartButtonEl.classList.add('colab-df-spinner');\n",
              "      try {\n",
              "        const charts = await google.colab.kernel.invokeFunction(\n",
              "            'suggestCharts', [key], {});\n",
              "      } catch (error) {\n",
              "        console.error('Error during call to suggestCharts:', error);\n",
              "      }\n",
              "      quickchartButtonEl.classList.remove('colab-df-spinner');\n",
              "      quickchartButtonEl.classList.add('colab-df-quickchart-complete');\n",
              "    }\n",
              "    (() => {\n",
              "      let quickchartButtonEl =\n",
              "        document.querySelector('#df-353754ac-409c-4447-b26d-cd4e3bbd982d button');\n",
              "      quickchartButtonEl.style.display =\n",
              "        google.colab.kernel.accessAllowed ? 'block' : 'none';\n",
              "    })();\n",
              "  </script>\n",
              "</div>\n",
              "    </div>\n",
              "  </div>\n"
            ]
          },
          "metadata": {},
          "execution_count": 6
        }
      ],
      "source": [
        "df = df.dropna(axis=0)\n",
        "df.head(20)"
      ]
    },
    {
      "cell_type": "markdown",
      "metadata": {
        "id": "rriQ2n3IfkBD"
      },
      "source": [
        "**2.c)** How many penguins of each `species` and `sex` live in each `island`? Answer this question with `pandas`."
      ]
    },
    {
      "cell_type": "code",
      "execution_count": null,
      "metadata": {
        "colab": {
          "base_uri": "https://localhost:8080/"
        },
        "id": "JRv_C6HQfkBD",
        "outputId": "4a02bc6f-eb0b-4770-ac79-a3ea9bbd13ff"
      },
      "outputs": [
        {
          "output_type": "stream",
          "name": "stdout",
          "text": [
            "island     species    sex   \n",
            "Biscoe     Adelie     FEMALE    22\n",
            "                      MALE      22\n",
            "           Gentoo     FEMALE    58\n",
            "                      MALE      61\n",
            "Dream      Adelie     FEMALE    27\n",
            "                      MALE      28\n",
            "           Chinstrap  FEMALE    34\n",
            "                      MALE      34\n",
            "Torgersen  Adelie     FEMALE    24\n",
            "                      MALE      23\n",
            "Name: body_mass_g, dtype: int64\n"
          ]
        }
      ],
      "source": [
        "df2 = df.iloc[:,[0,1,5,6]]\n",
        "print(df2.groupby(['island','species','sex'])['body_mass_g'].count())"
      ]
    },
    {
      "cell_type": "markdown",
      "metadata": {
        "id": "e1ThDSPYfkBE"
      },
      "source": [
        "**2.d)** Plot a correlation matrix of the numerical columns (with a statistical significance of 0.1%)."
      ]
    },
    {
      "cell_type": "code",
      "execution_count": null,
      "metadata": {
        "colab": {
          "base_uri": "https://localhost:8080/",
          "height": 1000
        },
        "id": "jA38faWBfkBE",
        "outputId": "1a86a2ba-12c3-4d5a-fa77-4ba4417249bd"
      },
      "outputs": [
        {
          "output_type": "display_data",
          "data": {
            "text/plain": [
              "<Figure size 1500x1500 with 2 Axes>"
            ],
            "image/png": "[encoded data removed]"
          },
          "metadata": {}
        }
      ],
      "source": [
        "from scipy.stats import pearsonr\n",
        "df_corrs = df.corr(numeric_only=True, method='pearson')\n",
        "pval = df.corr(numeric_only=True, method=lambda x, y: pearsonr(x, y)[1])\n",
        "ptg_stat_sig = 0.1/100\n",
        "mask = pval > ptg_stat_sig\n",
        "plt.subplots(figsize=(15, 15))\n",
        "heatmap = sns.heatmap(df_corrs, mask = mask, square = True, cmap = 'coolwarm', annot = True)"
      ]
    },
    {
      "cell_type": "markdown",
      "metadata": {
        "id": "BM90R_i8OCik"
      },
      "source": [
        "**2.e)** Perform a simple linear regression considering `body_mass_g` as the response and `flipper_length_mm` as the predictor. Print the obtained model and the $R^2$. Explain why this is a good choice of predictor.\n"
      ]
    },
    {
      "cell_type": "code",
      "execution_count": null,
      "metadata": {
        "colab": {
          "base_uri": "https://localhost:8080/"
        },
        "id": "teI35X_p9TAM",
        "outputId": "cd96ae06-18e9-4511-bb98-264a7f8c46fa"
      },
      "outputs": [
        {
          "output_type": "stream",
          "name": "stdout",
          "text": [
            "body_mass_g = -5872.0927 + 50.1533 * flipper_length_mm \n",
            "R^2: 0.7621\n"
          ]
        }
      ],
      "source": [
        "from sklearn.linear_model import LinearRegression\n",
        "from sklearn.metrics import r2_score\n",
        "\n",
        "X = df['flipper_length_mm'].values.reshape(-1, 1)\n",
        "y = df['body_mass_g'].values.reshape(-1, 1)\n",
        "regr = LinearRegression()\n",
        "regr.fit(X, y)\n",
        "\n",
        "print('body_mass_g = {:.4f} + {:.4f} * flipper_length_mm '.format(regr.intercept_[0], regr.coef_[0][0]))\n",
        "medv_pred = regr.predict(X)\n",
        "r2_value = r2_score(y, medv_pred)\n",
        "print('R^2: {:.4f}'.format(r2_value))"
      ]
    },
    {
      "cell_type": "markdown",
      "metadata": {
        "id": "2u1uxcdTfkBE"
      },
      "source": [
        "COMMENT: The $R^2$ expresses how much variance of the data is explained by the linear model (see reference *). Therefore, high values of $R^2$ are desirable and symbolize that X and Y are related. In this case, we got a $R^2$ = 0.7621, which is relatively high, meaning that this linear model explains 76.21% of the variance of the data (Y) through the predictors (X). As a result, flipper_length_mm was a good choice of predictor.\n",
        "\n",
        "\\* https://pt.wikipedia.org/wiki/Coeficiente_de_determina%C3%A7%C3%A3o"
      ]
    },
    {
      "cell_type": "markdown",
      "metadata": {
        "id": "yRYL0_TeQQfp"
      },
      "source": [
        "**2.f)** Plot a scatter plot of the response and predictor, along with the regression line."
      ]
    },
    {
      "cell_type": "code",
      "execution_count": null,
      "metadata": {
        "colab": {
          "base_uri": "https://localhost:8080/",
          "height": 522
        },
        "id": "S7QpN6n1APVa",
        "outputId": "c0b179d6-4f0e-478c-8e0e-6a54d1a840cb"
      },
      "outputs": [
        {
          "output_type": "display_data",
          "data": {
            "text/plain": [
              "<Figure size 1500x600 with 1 Axes>"
            ],
            "image/png": "[encoded data removed]"
          },
          "metadata": {}
        }
      ],
      "source": [
        "limits_flipper_length_mm = np.array([min(X), max(X)])\n",
        "body_mass_g_vals = regr.intercept_[0] + regr.coef_[0][0]*limits_flipper_length_mm\n",
        "plt.rcParams['figure.figsize'] = [15, 6]\n",
        "plt.plot(df['flipper_length_mm'], df['body_mass_g'], '.r')\n",
        "plt.plot(limits_flipper_length_mm ,body_mass_g_vals, 'b-')\n",
        "plt.show()"
      ]
    },
    {
      "cell_type": "markdown",
      "metadata": {
        "id": "Auch-tyTfkBF"
      },
      "source": [
        "**2.g)** A baby penguin has a flipper length of around 50 mm. What is the predicted value of the body mass of a baby penguin? Comment on the prediction of the model."
      ]
    },
    {
      "cell_type": "code",
      "execution_count": null,
      "metadata": {
        "colab": {
          "base_uri": "https://localhost:8080/"
        },
        "id": "-HgQ3LyXfkBF",
        "outputId": "0c923d8c-6357-4d9f-a19e-70151ea042ce"
      },
      "outputs": [
        {
          "output_type": "stream",
          "name": "stdout",
          "text": [
            "-3364.4293857307684\n"
          ]
        }
      ],
      "source": [
        "result_2g = regr.intercept_[0] + regr.coef_[0][0]*50\n",
        "print(result_2g)"
      ]
    },
    {
      "cell_type": "markdown",
      "metadata": {
        "id": "RzxRWVMCfkBF"
      },
      "source": [
        "COMMENT:\n",
        "\n",
        "The model predicted a body mass of -3364.43 kg, which is impossible. In this dataset, there was only data from adult penguins; in turn, the model obtained will only be suitable for adult penguins and not for the baby ones. This explains the negative value for the mass of the baby penguin.\n",
        "\n",
        "In fact, we considered only one predictor for the body mass of a baby penguin, and assume their relation to be linear, further proving that, if we were to include a wider range of data, the order of our regression would most likely need to increase, in order to make more sense on a global scale."
      ]
    },
    {
      "cell_type": "markdown",
      "metadata": {
        "id": "gvqjIxi4fkBF"
      },
      "source": [
        "**2.h)** Perform a multiple linear regression considering `body_mass_g` as the response and using all numerical predictors. Compare the $R^2$ of the simple linear regression model and the multiple linear regression model."
      ]
    },
    {
      "cell_type": "code",
      "execution_count": null,
      "metadata": {
        "colab": {
          "base_uri": "https://localhost:8080/"
        },
        "id": "mVx-mIbTfkBF",
        "outputId": "97f384e0-13c6-479f-b665-310bec61c8b7"
      },
      "outputs": [
        {
          "output_type": "stream",
          "name": "stdout",
          "text": [
            "body_mass_g = -6445.4760 + 3.2929 * culmen_length_mm + 17.8364 * culmen_depth_mm + 50.7621 * flipper_length_mm\n",
            "R^2: 0.7639\n"
          ]
        }
      ],
      "source": [
        "cols = ['culmen_length_mm', 'culmen_depth_mm','flipper_length_mm']\n",
        "X = df[cols].values\n",
        "y = df['body_mass_g'].values.reshape(-1, 1)\n",
        "\n",
        "regr = LinearRegression()\n",
        "regr.fit(X,y)\n",
        "\n",
        "print('body_mass_g = {:.4f} + {:.4f} * culmen_length_mm + {:.4f} * culmen_depth_mm + {:.4f} * flipper_length_mm'.format(regr.intercept_[0], regr.coef_[0][0], regr.coef_[0][1],regr.coef_[0][2]))\n",
        "\n",
        "body_mass_g_pred = regr.predict(X)\n",
        "r2_value = r2_score(y, body_mass_g_pred)\n",
        "print('R^2: {:.4f}'.format(r2_value))"
      ]
    },
    {
      "cell_type": "markdown",
      "metadata": {
        "id": "QUzKFce_fkBF"
      },
      "source": [
        "COMMENT: The model with all the numeric predictors got a $R^2$ = 0.7639. On the other hand, the model with only one predictor got a $R^2$ = 0.7621. The diference is minimal, which may mean that some of the predictors used here may not be relevant enough in relation to Y. In any case, it makes sense for this one to be higher, since we are considering more predictors here."
      ]
    },
    {
      "cell_type": "markdown",
      "metadata": {
        "id": "R8wSzDL9fkBG"
      },
      "source": [
        "**2.i)** Perform a multiple linear regression considering `body_mass_g` as the response and using all predictors. Comment on the $R^2$ of this model."
      ]
    },
    {
      "cell_type": "code",
      "execution_count": null,
      "metadata": {
        "colab": {
          "base_uri": "https://localhost:8080/"
        },
        "id": "O8qDSjIMfkBG",
        "outputId": "7ec58d4e-689b-4b0e-aef2-40022b28e834"
      },
      "outputs": [
        {
          "output_type": "stream",
          "name": "stdout",
          "text": [
            "body_mass_g = -1277.9329 + 18.1893 * culmen_length_mm + 67.5754 * culmen_depth_mm + 16.2385 * flipper_length_mm + 387.2243 * sex + -242.4851 * species_Adelie + -502.7913 * species_Chinstrap + 745.2764 * species_Gentoo + 20.3889 * island_Biscoe + 7.2858 * island_Dream + -27.6747 * island_Torgersen\n",
            "R^2: 0.8752\n"
          ]
        }
      ],
      "source": [
        "# Converts non-numeric columns into separate boolean columns, for each different category\n",
        "df_2i = pd.get_dummies(df,columns = ['species', 'island'],dtype=int)\n",
        "df_2i['sex'] = (df_2i['sex'] == \"MALE\").astype(int)\n",
        "\n",
        "# Define X and y for the regression\n",
        "X = df_2i.drop(['body_mass_g'],axis=1).values\n",
        "#X = df_2i.drop(['body_mass_g','species_Gentoo','island_Torgersen'],axis=1).values\n",
        "y = df_2i['body_mass_g'].values.reshape(-1, 1)\n",
        "\n",
        "# Initialize linear regression\n",
        "regr = LinearRegression()\n",
        "regr.fit(X,y)\n",
        "\n",
        "# Print linear regression expression\n",
        "print('body_mass_g = {:.4f} + {:.4f} * culmen_length_mm + {:.4f} * culmen_depth_mm + {:.4f} * flipper_length_mm + {:.4f} * sex + {:.4f} * species_Adelie + {:.4f} * species_Chinstrap + {:.4f} * species_Gentoo + {:.4f} * island_Biscoe + {:.4f} * island_Dream + {:.4f} * island_Torgersen'.format(regr.intercept_[0], regr.coef_[0][0], regr.coef_[0][1], regr.coef_[0][2], regr.coef_[0][3], regr.coef_[0][4], regr.coef_[0][5], regr.coef_[0][6], regr.coef_[0][7], regr.coef_[0][8], regr.coef_[0][9]))\n",
        "#print('body_mass_g = {:.4f} + {:.4f} * culmen_length_mm + {:.4f} * culmen_depth_mm + {:.4f} * flipper_length_mm + {:.4f} * sex + {:.4f} * species_Adelie + {:.4f} * species_Chinstrap + {:.4f} * island_Biscoe + {:.4f} * island_Dream'.format(regr.intercept_[0], regr.coef_[0][0], regr.coef_[0][1], regr.coef_[0][2], regr.coef_[0][3], regr.coef_[0][4], regr.coef_[0][5], regr.coef_[0][6], regr.coef_[0][7]))\n",
        "\n",
        "# R^2 calculation\n",
        "body_mass_g_pred = regr.predict(X)\n",
        "r2_value = r2_score(y, body_mass_g_pred)\n",
        "print('R^2: {:.4f}'.format(r2_value))"
      ]
    },
    {
      "cell_type": "markdown",
      "metadata": {
        "id": "-sMyMngZfkBG"
      },
      "source": [
        "COMMENT:\n",
        "\n",
        "This model has the biggest $R^2$, considering the previous ones discussed. It is substantially higher than that of the previous model, which included all the numerical predictors. This means that the non-numerical ones are highly related with Y. In fact, when we look at the coefficients of each predictor, it is verified that the ones regarding sex, species and island are, on average, greater than the ones related to numerical predictors. Once again, this is the extreme case where all the given predictors are taken into account, which corroborates the fact the $R^2$ of this model is the highest one.\n",
        "\n",
        "NOTE:\n",
        "\n",
        "For the case of species and island, it was decided to have a dummy variable for specifically each possibility (i.e. 3 for each, as opposed to having 2 for each, being the remaining implicitly defined by both previous ones being false). This way, the influence of each species and island is explicitly represented in the multiple linear regression expression, which eases result interpretation."
      ]
    },
    {
      "cell_type": "markdown",
      "metadata": {
        "id": "1xBHkVadQ5Ot"
      },
      "source": [
        "## Section 2 -- Classification"
      ]
    },
    {
      "cell_type": "markdown",
      "metadata": {
        "id": "SIpGTVYkRD9A"
      },
      "source": [
        "**3)** Suppose that a dataset is divided into two equally-sized training and test sets, and then try out two different classification procedures:\n",
        "\n",
        "* The first is the logistic regression, obtaining an error rate of 20% on the training data and 30% on the test data.\n",
        "* The second is a 1-nearest neighbors, with an average error rate (averaged over test and training datasets) of 18%.\n",
        "\n",
        "Based on these results, which method is preferred for classifying new observations? Why?"
      ]
    },
    {
      "cell_type": "markdown",
      "metadata": {
        "id": "3XmExR29fkBG"
      },
      "source": [
        "In the context of new observations, the test error is what is most important to be minimized. Even though the 1-nearest neighbors has the lowest error rate (18%), this value is averaged between the test and training error. The training error in the 1-nearest neighbors is 0%, since, when $k=1$, the closest point around a given data point is that same data point. Therefore, the test error must be equal to 36% in order for the average between the training and test errors to be 18%. That being said, the logistic regression is preferred, because it has the lowest test error.\n",
        "\n",
        "\n",
        "\n",
        "\n",
        "\n",
        "\n"
      ]
    },
    {
      "cell_type": "markdown",
      "metadata": {
        "id": "4oPohcizBV3J"
      },
      "source": [
        "## Obtain the training indices\n"
      ]
    },
    {
      "cell_type": "markdown",
      "metadata": {
        "id": "z0Ws08q_SVLO"
      },
      "source": [
        "**4.a)** Consider again the penguins dataset. However, the objective now is to predict the `sex` of the penguin based on the other variables. Split the data into test and training datasets. Consider a test dataset comprised of 30% of the whole dataset."
      ]
    },
    {
      "cell_type": "code",
      "execution_count": 38,
      "metadata": {
        "id": "Zmk2OAC3w-W6",
        "colab": {
          "base_uri": "https://localhost:8080/"
        },
        "outputId": "8e3c7adf-9057-4b58-9fef-f48a08219c09"
      },
      "outputs": [
        {
          "output_type": "stream",
          "name": "stdout",
          "text": [
            "Training set length: 234\n",
            "Test set length: 99\n"
          ]
        }
      ],
      "source": [
        "from random import sample\n",
        "import random\n",
        "import statsmodels.api as sm\n",
        "df_3 = pd.get_dummies(df,columns = ['species', 'island'],dtype=int)\n",
        "df_3['sex'] = (df_3['sex'] == \"MALE\").astype(int)\n",
        "\n",
        "test_size = 0.3     # Ratio of test dataset\n",
        "seed = 100         # Random seed\n",
        "random.seed(seed)    # Apply random seed\n",
        "idxs_test = sample(range(df_3.shape[0]), int(test_size * df_3.shape[0]))  # Sample idxs for test datasets\n",
        "idxs_train = [i for i in range(df_3.shape[0]) if i not in idxs_test]          # Obtain the remaining idxs as training\n",
        "\n",
        "## Create the train and test datasets\n",
        "df_train = df_3.iloc[idxs_train,:].copy()\n",
        "df_test = df_3.iloc[idxs_test,:].copy()\n",
        "print('Training set length:', len(df_train))\n",
        "print('Test set length:', len(df_test))"
      ]
    },
    {
      "cell_type": "markdown",
      "metadata": {
        "id": "IWepa-QISjbZ"
      },
      "source": [
        "**4.b)** Perform LDA on the training data in order to predict `sex` using the remaining variables. What is the test error of the model obtained?"
      ]
    },
    {
      "cell_type": "code",
      "execution_count": 39,
      "metadata": {
        "colab": {
          "base_uri": "https://localhost:8080/"
        },
        "id": "bQquLCRDyizP",
        "outputId": "f23ba828-7eef-4f69-9525-74adafa3dac5"
      },
      "outputs": [
        {
          "output_type": "stream",
          "name": "stdout",
          "text": [
            "Intercept: [-68.24448976]\n",
            "Coefficients: [[ 0.36770085  1.48185728  0.04219803  0.00422558  3.11642153 -1.76800772\n",
            "  -2.0853412  -0.18366075  0.33063287 -0.223887  ]]\n",
            "Priors: [0.5042735 0.4957265]\n",
            "Means: [[4.24644068e+01 1.63788136e+01 1.97677966e+02 3.90677966e+03\n",
            "  4.15254237e-01 2.11864407e-01 3.72881356e-01 5.25423729e-01\n",
            "  3.55932203e-01 1.18644068e-01]\n",
            " [4.58163793e+01 1.78318966e+01 2.05120690e+02 4.60000000e+03\n",
            "  4.39655172e-01 1.63793103e-01 3.96551724e-01 5.34482759e-01\n",
            "  3.01724138e-01 1.63793103e-01]]\n",
            "Classes: [0 1]\n",
            "\n",
            "                             Actual\n",
            "                        FEMALE |  MALE\n",
            "     Predicted FEMALE:     45  |  3\n",
            "       Predicted MALE:      2  |  49\n",
            "\n",
            "Success Rate: 94.95%\n",
            "Test Error: 5.05%\n"
          ]
        }
      ],
      "source": [
        "from sklearn.linear_model import LogisticRegression\n",
        "from sklearn.metrics import confusion_matrix\n",
        "from sklearn.metrics import accuracy_score\n",
        "from sklearn.discriminant_analysis import LinearDiscriminantAnalysis\n",
        "\n",
        "\n",
        "## Create input and output matrices\n",
        "X_train = df_train.drop(['sex'], axis=1).values\n",
        "y_train = df_train['sex'].values\n",
        "X_test = df_test.drop(['sex'], axis=1).values\n",
        "y_test = df_test['sex'].values\n",
        "\n",
        "## Create the model and fit the data to it\n",
        "model = LinearDiscriminantAnalysis()\n",
        "model.fit(X_train, y_train)\n",
        "\n",
        "## Print the coefficients and the interception value\n",
        "print('Intercept: {}'.format(model.intercept_))\n",
        "print('Coefficients: {}'.format(model.coef_))\n",
        "print('Priors: {}'.format(model.priors_))\n",
        "print('Means: {}'.format(model.means_))\n",
        "print('Classes: {}'.format(model.classes_))\n",
        "\n",
        "## Predict the classification and print the confusion matrix\n",
        "y_pred = model.predict(X_test)\n",
        "cm = confusion_matrix(y_test, y_pred)\n",
        "\n",
        "print ('\\n' + 'Actual'.rjust(35))\n",
        "print ('{} |  {}'.format('FEMALE'.rjust(30),'MALE'))\n",
        "print ('{}:     {}  |  {}'.format('Predicted FEMALE'.rjust(21), cm[0,0], cm[1,0]))\n",
        "print ('{}:      {}  |  {}'.format('Predicted MALE'.rjust(21), cm[0,1], cm[1,1]))\n",
        "print('\\nSuccess Rate: {:.2f}%'.format(accuracy_score(y_pred, y_test)*100))\n",
        "\n",
        "## Store the necessary variables\n",
        "cols_to_store = [i for i in range(len(model.classes_)) if model.classes_[i] == 1]\n",
        "y_LDA_pred = model.predict_proba(X_test)[:,cols_to_store].copy()\n",
        "y_LDA_true = (y_test.copy() == 1).copy()\n",
        "\n",
        "## Calculate the test error\n",
        "print('Test Error: {:.2f}%'.format((1 - accuracy_score(y_pred, y_test))*100))"
      ]
    },
    {
      "cell_type": "markdown",
      "metadata": {
        "id": "YWiMguFvSjWE"
      },
      "source": [
        "**4.c)** Perform QDA on the training data in order to predict `sex` using the remaining variables. What is the test error of the model obtained?"
      ]
    },
    {
      "cell_type": "code",
      "execution_count": 40,
      "metadata": {
        "colab": {
          "base_uri": "https://localhost:8080/"
        },
        "id": "bvzDUm5sze_l",
        "outputId": "42b8eaec-5df3-43fe-fabb-eb8b6bd1c294"
      },
      "outputs": [
        {
          "output_type": "stream",
          "name": "stdout",
          "text": [
            "Priors: [0.5042735 0.4957265]\n",
            "Means: [[4.24644068e+01 1.63788136e+01 1.97677966e+02 3.90677966e+03\n",
            "  4.15254237e-01 2.11864407e-01 3.72881356e-01 5.25423729e-01\n",
            "  3.55932203e-01 1.18644068e-01]\n",
            " [4.58163793e+01 1.78318966e+01 2.05120690e+02 4.60000000e+03\n",
            "  4.39655172e-01 1.63793103e-01 3.96551724e-01 5.34482759e-01\n",
            "  3.01724138e-01 1.63793103e-01]]\n",
            "Classes: [0 1]\n",
            "\n",
            "                             Actual\n",
            "                        FEMALE |  MALE\n",
            "     Predicted FEMALE:     41  |  28\n",
            "       Predicted MALE:     6  |  24\n",
            "\n",
            "Success Rate: 65.66%\n",
            "Test Error: 34.34%\n"
          ]
        },
        {
          "output_type": "stream",
          "name": "stderr",
          "text": [
            "/usr/local/lib/python3.10/dist-packages/sklearn/discriminant_analysis.py:926: UserWarning: Variables are collinear\n",
            "  warnings.warn(\"Variables are collinear\")\n"
          ]
        }
      ],
      "source": [
        "from sklearn.discriminant_analysis import QuadraticDiscriminantAnalysis\n",
        "\n",
        "## Create the model and fit the data to it\n",
        "model = QuadraticDiscriminantAnalysis()\n",
        "model.fit(X_train, y_train)\n",
        "\n",
        "## Print the coefficients and the interception value\n",
        "print('Priors: {}'.format(model.priors_))\n",
        "print('Means: {}'.format(model.means_))\n",
        "print('Classes: {}'.format(model.classes_))\n",
        "\n",
        "## Predict the classification and print the confusion matrix\n",
        "y_pred = model.predict(X_test)\n",
        "cm = confusion_matrix(y_test, y_pred)\n",
        "\n",
        "print ('\\n' + 'Actual'.rjust(35))\n",
        "print ('{} |  {}'.format('FEMALE'.rjust(30),'MALE'))\n",
        "print ('{}:     {}  |  {}'.format('Predicted FEMALE'.rjust(21), cm[0,0], cm[1,0]))\n",
        "print ('{}:     {}  |  {}'.format('Predicted MALE'.rjust(21), cm[0,1], cm[1,1]))\n",
        "print('\\nSuccess Rate: {:.2f}%'.format(accuracy_score(y_pred, y_test)*100))\n",
        "\n",
        "\n",
        "## Store the necessary variables\n",
        "cols_to_store = [i for i in range(len(model.classes_)) if model.classes_[i] == 1]\n",
        "y_QDA_pred = model.predict_proba(X_test)[:,cols_to_store]\n",
        "y_QDA_true = (y_test.copy() == 1).copy()\n",
        "\n",
        "## Calculate the test error\n",
        "print('Test Error: {:.2f}%'.format((1 - accuracy_score(y_pred, y_test))*100))"
      ]
    },
    {
      "cell_type": "markdown",
      "metadata": {
        "id": "DFAhEuhSSjOz"
      },
      "source": [
        "**4.d)** Perform logistic regression on the training data in order to predict `sex` using the remaining variables. What is the test error of the model obtained?"
      ]
    },
    {
      "cell_type": "code",
      "execution_count": 41,
      "metadata": {
        "colab": {
          "base_uri": "https://localhost:8080/"
        },
        "id": "7oVkI9QUzufY",
        "outputId": "2688b998-ce1d-4bca-e17c-b73deb5619a3"
      },
      "outputs": [
        {
          "output_type": "stream",
          "name": "stdout",
          "text": [
            "Intercept: [-0.29615653]\n",
            "Coefficients: [[ 0.18635577  0.73039067 -0.22082265  0.00574034  0.36185776 -0.4790435\n",
            "  -0.17876139 -0.62406426 -0.23046694  0.55858407]]\n",
            "Classes: [0 1]\n",
            "\n",
            "                             Actual\n",
            "                        FEMALE |  MALE\n",
            "     Predicted FEMALE:     44  |  15\n",
            "       Predicted MALE:      3  |  37\n",
            "\n",
            "Success Rate: 81.82%\n",
            "Test Error: 18.18%\n"
          ]
        }
      ],
      "source": [
        "## Create the model and fit the data to it\n",
        "model = LogisticRegression()\n",
        "model.fit(X_train, y_train)\n",
        "\n",
        "## Print the coefficients and the interception value\n",
        "print('Intercept: {}'.format(model.intercept_))\n",
        "print('Coefficients: {}'.format(model.coef_))\n",
        "print('Classes: {}'.format(model.classes_))\n",
        "\n",
        "## Predict the classification and print the confusion matrix\n",
        "y_pred = model.predict(X_test)\n",
        "cm = confusion_matrix(y_test, y_pred)\n",
        "\n",
        "print ('\\n' + 'Actual'.rjust(35))\n",
        "print ('{} |  {}'.format('FEMALE'.rjust(30),'MALE'))\n",
        "print ('{}:     {}  |  {}'.format('Predicted FEMALE'.rjust(21), cm[0,0], cm[1,0]))\n",
        "print ('{}:      {}  |  {}'.format('Predicted MALE'.rjust(21), cm[0,1], cm[1,1]))\n",
        "print('\\nSuccess Rate: {:.2f}%'.format(accuracy_score(y_pred, y_test)*100))\n",
        "\n",
        "## Store the necessary variables\n",
        "cols_to_store = [i for i in range(len(model.classes_)) if model.classes_[i] == 1]\n",
        "y_logistic_pred  = model.predict_proba(X_test)[:,cols_to_store]\n",
        "y_logistic_true = (y_test.copy() == 1).copy()\n",
        "\n",
        "## Calculate the test error\n",
        "print('Test Error: {:.2f}%'.format((1 - accuracy_score(y_pred, y_test))*100))"
      ]
    },
    {
      "cell_type": "markdown",
      "metadata": {
        "id": "dJUvW41ViqMc"
      },
      "source": [
        "**4.e)** Perform naive Bayes on the training data in order to predict `sex` using the remaining variables. What is the test error of the model obtained?"
      ]
    },
    {
      "cell_type": "code",
      "execution_count": 42,
      "metadata": {
        "colab": {
          "base_uri": "https://localhost:8080/"
        },
        "id": "U6pzjPGc1y_t",
        "outputId": "42dab815-8e36-4855-b653-0727b3ff9a81"
      },
      "outputs": [
        {
          "output_type": "stream",
          "name": "stdout",
          "text": [
            "Class Priors: [0.5042735 0.4957265]\n",
            "Sigma: [[2.42024695e+01 3.37303324e+00 1.57507149e+02 4.55684969e+05\n",
            "  2.43503647e-01 1.67663371e-01 2.34526342e-01 2.50039125e-01\n",
            "  2.29929961e-01 1.05253144e-01]\n",
            " [3.00956758e+01 3.58096120e+00 2.33520602e+02 6.76928880e+05\n",
            "  2.47043993e-01 1.37650414e-01 2.39983945e-01 2.49496431e-01\n",
            "  2.11372174e-01 1.37650414e-01]]\n",
            "Theta: [[4.24644068e+01 1.63788136e+01 1.97677966e+02 3.90677966e+03\n",
            "  4.15254237e-01 2.11864407e-01 3.72881356e-01 5.25423729e-01\n",
            "  3.55932203e-01 1.18644068e-01]\n",
            " [4.58163793e+01 1.78318966e+01 2.05120690e+02 4.60000000e+03\n",
            "  4.39655172e-01 1.63793103e-01 3.96551724e-01 5.34482759e-01\n",
            "  3.01724138e-01 1.63793103e-01]]\n",
            "Classes: [0 1]\n",
            "\n",
            "                             Actual\n",
            "                        FEMALE |  MALE\n",
            "     Predicted FEMALE:     41  |  20\n",
            "       Predicted MALE:      6  |  32\n",
            "\n",
            "Success Rate: 73.74%\n",
            "Test Error: 26.26%\n"
          ]
        }
      ],
      "source": [
        "from sklearn.naive_bayes import GaussianNB\n",
        "\n",
        "## Create the model and fit the data to it\n",
        "model = GaussianNB()\n",
        "model.fit(X_train, y_train)\n",
        "\n",
        "## Print the coefficients and the interception value\n",
        "print('Class Priors: {}'.format(model.class_prior_))\n",
        "print('Sigma: {}'.format(model.var_))\n",
        "print('Theta: {}'.format(model.theta_))\n",
        "print('Classes: {}'.format(model.classes_))\n",
        "\n",
        "## Predict the classification and print the confusion matrix\n",
        "y_pred = model.predict(X_test)\n",
        "cm = confusion_matrix(y_test, y_pred)\n",
        "\n",
        "print ('\\n' + 'Actual'.rjust(35))\n",
        "print ('{} |  {}'.format('FEMALE'.rjust(30),'MALE'))\n",
        "print ('{}:     {}  |  {}'.format('Predicted FEMALE'.rjust(21), cm[0,0], cm[1,0]))\n",
        "print ('{}:      {}  |  {}'.format('Predicted MALE'.rjust(21), cm[0,1], cm[1,1]))\n",
        "print('\\nSuccess Rate: {:.2f}%'.format(accuracy_score(y_pred, y_test)*100))\n",
        "\n",
        "## Store the necessary variables\n",
        "cols_to_store = [i for i in range(len(model.classes_)) if model.classes_[i] == 1]\n",
        "y_GNB_pred = model.predict_proba(X_test)[:,cols_to_store]\n",
        "y_GNB_true = (y_test.copy() == 1).copy()\n",
        "\n",
        "## Calculate the test error\n",
        "print('Test Error: {:.2f}%'.format((1 - accuracy_score(y_pred, y_test))*100))"
      ]
    },
    {
      "cell_type": "markdown",
      "metadata": {
        "id": "tPRBsCLviqKm"
      },
      "source": [
        "**4.f)** Perform KNN on the training data, with several values of K, in order to predict `sex`. What test errors are obtained? Which value of K seems to perform the best on this data set?"
      ]
    },
    {
      "cell_type": "code",
      "execution_count": 43,
      "metadata": {
        "colab": {
          "base_uri": "https://localhost:8080/",
          "height": 1000
        },
        "id": "KCXGQmN52G7W",
        "outputId": "e6f67c5b-c5ed-43f1-e669-5e145852c3de"
      },
      "outputs": [
        {
          "output_type": "stream",
          "name": "stdout",
          "text": [
            "\n",
            "k = 1\n",
            "                             Actual\n",
            "                        FEMALE |  MALE\n",
            "     Predicted FEMALE:     36  |  21\n",
            "       Predicted MALE:      11  |  31\n",
            "\n",
            "Success Rate: 67.68%\n",
            "Test Error: 32.32%\n",
            "\n",
            "k = 3\n",
            "                             Actual\n",
            "                        FEMALE |  MALE\n",
            "     Predicted FEMALE:     33  |  22\n",
            "       Predicted MALE:      14  |  30\n",
            "\n",
            "Success Rate: 63.64%\n",
            "Test Error: 36.36%\n",
            "\n",
            "k = 13\n",
            "                             Actual\n",
            "                        FEMALE |  MALE\n",
            "     Predicted FEMALE:     44  |  14\n",
            "       Predicted MALE:      3  |  38\n",
            "\n",
            "Success Rate: 82.83%\n",
            "Test Error: 17.17%\n",
            "\n",
            "k = 14\n",
            "                             Actual\n",
            "                        FEMALE |  MALE\n",
            "     Predicted FEMALE:     45  |  15\n",
            "       Predicted MALE:      2  |  37\n",
            "\n",
            "Success Rate: 82.83%\n",
            "Test Error: 17.17%\n"
          ]
        },
        {
          "output_type": "display_data",
          "data": {
            "text/plain": [
              "<Figure size 1600x500 with 1 Axes>"
            ],
            "image/png": "[encoded data removed]"
          },
          "metadata": {}
        }
      ],
      "source": [
        "from sklearn.neighbors import KNeighborsClassifier\n",
        "\n",
        "def KNN_fit(X_train, X_test, y_train, y_test, n_neighbors, verbosity=0):\n",
        "\n",
        "    ## Create the model and fit the data to it\n",
        "    model = KNeighborsClassifier(n_neighbors=n_neighbors)\n",
        "    model.fit(X_train, y_train)\n",
        "\n",
        "    ## Predict the classification and print the confusion matrix\n",
        "    y_pred = model.predict(X_test)\n",
        "    cm = confusion_matrix(y_test, y_pred)\n",
        "    accuracy_val = accuracy_score(y_pred, y_test)*100\n",
        "\n",
        "    if verbosity == 1:\n",
        "        print('\\nk =', n_neighbors)\n",
        "        print ('Actual'.rjust(35))\n",
        "        print ('{} |  {}'.format('FEMALE'.rjust(30),'MALE'))\n",
        "        print ('{}:     {}  |  {}'.format('Predicted FEMALE'.rjust(21), cm[0,0], cm[1,0]))\n",
        "        print ('{}:      {}  |  {}'.format('Predicted MALE'.rjust(21), cm[0,1], cm[1,1]))\n",
        "        print('\\nSuccess Rate: {:.2f}%'.format(accuracy_score(y_pred, y_test)*100))\n",
        "        print('Test Error: {:.2f}%'.format((1 - accuracy_score(y_pred, y_test))*100))\n",
        "\n",
        "\n",
        "    return model, accuracy_val\n",
        "\n",
        "accuracies = []\n",
        "knn_limit = 25\n",
        "\n",
        "## Access the custom created KNN function to calculate the accuracy for each number of neighbors\n",
        "for i in range(knn_limit):\n",
        "    _, accuracy_val = KNN_fit(X_train, X_test, y_train, y_test, n_neighbors=i+1, verbosity=0)\n",
        "    accuracies.append(accuracy_val)\n",
        "\n",
        "## Access the KNN function and calculate the accuracy values for specified number of neighbors\n",
        "model_k1, accuracy_val = KNN_fit(X_train, X_test, y_train, y_test, n_neighbors=1, verbosity=1)\n",
        "model_k3, accuracy_val = KNN_fit(X_train, X_test, y_train, y_test, n_neighbors=3, verbosity=1)\n",
        "model_k13, accuracy_val = KNN_fit(X_train, X_test, y_train, y_test, n_neighbors=13, verbosity=1)\n",
        "model_k14, accuracy_val = KNN_fit(X_train, X_test, y_train, y_test, n_neighbors=14, verbosity=1)\n",
        "\n",
        "## Store the necessary variables\n",
        "cols_to_store = [i for i in range(len(model_k13.classes_)) if model_k13.classes_[i] == 1]\n",
        "y_KNN_pred = model_k13.predict_proba(X_test)[:,cols_to_store]\n",
        "y_KNN_true = (y_test.copy() == 1).copy()\n",
        "\n",
        "## Plot the results\n",
        "plt.subplots(figsize=(16, 5))\n",
        "plt.plot([i+1 for i in range(knn_limit)], accuracies)\n",
        "plt.xlabel('k Value')\n",
        "plt.ylabel('Accuracy')\n",
        "plt.show()"
      ]
    },
    {
      "cell_type": "markdown",
      "metadata": {
        "id": "mZ0oHhTYfkBN"
      },
      "source": [
        "Analizing the graph, we conclude that the best $k$ value is $k=13$, since it yields the biggest value of accuracy and it's less computationally demanding, in comparison with $k=14$ (which yields the same accuracy).\n"
      ]
    },
    {
      "cell_type": "markdown",
      "metadata": {
        "id": "nvhamoK0i2WZ"
      },
      "source": [
        "**4.g)** Plot the ROC curve and calculate the area under curve (AUC) for the LDA, QDA, logistic regression, naive Bayes and for the best value of K for the KNN method. Compare the results."
      ]
    },
    {
      "cell_type": "code",
      "execution_count": 44,
      "metadata": {
        "colab": {
          "base_uri": "https://localhost:8080/",
          "height": 649
        },
        "id": "iNXZovNn8Wlv",
        "outputId": "1cbce619-fbf8-461f-86b1-d955ce2c3b74"
      },
      "outputs": [
        {
          "output_type": "display_data",
          "data": {
            "text/plain": [
              "<Figure size 1500x600 with 1 Axes>"
            ],
            "image/png": "[encoded data removed]"
          },
          "metadata": {}
        },
        {
          "output_type": "stream",
          "name": "stdout",
          "text": [
            "                      AUC\n",
            "                LDA: 0.984\n",
            "Logistic Regression: 0.939\n",
            "       KNN (k = 13): 0.873\n",
            "                QDA: 0.851\n",
            "        Naive Bayes: 0.845\n"
          ]
        }
      ],
      "source": [
        "from sklearn.metrics import roc_curve\n",
        "from sklearn.metrics import roc_auc_score\n",
        "\n",
        "# Calculate ROC curves\n",
        "lr_fpr, lr_tpr, _ = roc_curve(y_logistic_true, y_logistic_pred)\n",
        "lr_fpr1, lr_tpr1, _ = roc_curve(y_LDA_true, y_LDA_pred)\n",
        "lr_fpr2, lr_tpr2, _ = roc_curve(y_QDA_true, y_QDA_pred)\n",
        "lr_fpr3, lr_tpr3, _ = roc_curve(y_GNB_true, y_GNB_pred)\n",
        "lr_fpr4, lr_tpr4, _ = roc_curve(y_KNN_true, y_KNN_pred)\n",
        "\n",
        "# Plot the ROC curve for the model\n",
        "plt.subplots(figsize=(15, 6))\n",
        "plt.plot([0,1], [0,1], linestyle='--', label = 'Base')\n",
        "plt.plot(lr_fpr1, lr_tpr1, marker='.', label = 'LDA')\n",
        "plt.plot(lr_fpr, lr_tpr, marker='.', label = 'Logistic Regression')\n",
        "plt.plot(lr_fpr4, lr_tpr4, marker='.', label = 'KNN (k = 13)')\n",
        "plt.plot(lr_fpr2, lr_tpr2, marker='.', label = 'QDA')\n",
        "plt.plot(lr_fpr3, lr_tpr3, marker='.', label = 'Naive Bayes')\n",
        "\n",
        "# Axis Labels\n",
        "plt.legend()\n",
        "plt.xlabel('False Positive Rate')\n",
        "plt.ylabel('True Positive Rate')\n",
        "plt.show()\n",
        "\n",
        "# Print scores of Area under curve (AUC)\n",
        "print('AUC'.rjust(25))\n",
        "print('{}: {:.3f}'.format('LDA'.rjust(19), roc_auc_score(y_LDA_true, y_LDA_pred)))\n",
        "print('{}: {:.3f}'.format('Logistic Regression'.rjust(19), roc_auc_score(y_logistic_true, y_logistic_pred)))\n",
        "print('{}: {:.3f}'.format('KNN (k = 13)'.rjust(19), roc_auc_score(y_KNN_true, y_KNN_pred)))\n",
        "print('{}: {:.3f}'.format('QDA'.rjust(19), roc_auc_score(y_QDA_true, y_QDA_pred)))\n",
        "print('{}: {:.3f}'.format('Naive Bayes'.rjust(19), roc_auc_score(y_GNB_true, y_GNB_pred)))"
      ]
    },
    {
      "cell_type": "markdown",
      "metadata": {
        "id": "DY0fQELvfkBO"
      },
      "source": [
        "Idealy, we want to have $AUC=1$, meaning, we want to maximize the True Positive Rate and minimize the False Positive Rate. Therefore, we conclude that the best classification procedure is the Linear Discriminant Analysis (LDA), for the given seed and training/test data."
      ]
    },
    {
      "cell_type": "markdown",
      "metadata": {
        "id": "jEtBKnHni2GT"
      },
      "source": [
        "## Section 3 -- Bootstrap and k-Fold"
      ]
    },
    {
      "cell_type": "markdown",
      "metadata": {
        "id": "AyCSRMx2pDsm"
      },
      "source": [
        "**5.a)** Explain how k-fold cross-validation is implemented."
      ]
    },
    {
      "cell_type": "markdown",
      "metadata": {
        "id": "Bh8t6HC49HIl"
      },
      "source": [
        "This approach inolves randomly dividing the set of observations into k groups, or folds, of approximately equal size. The first fold is treated as a validation set, and the method is fit on the remaining k-1 folds. The mean squared error, MSE1, is then computed on the observations in the held-out fold. This procedure is repeated k times; each time, a different group of observations is treated as a validation set.\n",
        "\n",
        "Definition from the course book   \"An Introduction to Statistical Learning (with Applications in Python)\""
      ]
    },
    {
      "cell_type": "markdown",
      "metadata": {
        "id": "MbIethdmpcwr"
      },
      "source": [
        "**5.b)** What are the advantages and disadvantages of k-Fold cross-validation relative to:\n",
        "\n",
        "1. Validation set approach.\n",
        "2. Leave One Out Cross-Validation (LOOCV)."
      ]
    },
    {
      "cell_type": "markdown",
      "metadata": {
        "id": "F_U7i3m1MYWh"
      },
      "source": [
        "<u>Comparing with Validation set approach</u>:\n",
        "- Advantages:\n",
        "1. When it comes to *variance*, the validation set approach directly depends on the training set size that is arbitrarily chosen, which means that improper sizes may lead to higher variances than those of the k-Fold CV.\n",
        "2. Regarding *suitability*, the model we get from the validation set approach is tuned for a randomly chosen ratio between training and test dataset sizes, making it highly circumstantial and thus not as suitable for new data as a model obtained from the k-Fold CV is.\n",
        "- Disadvantages:\n",
        "1. In regards to *computational demand*, while the k-Fold CV computes k trainings and k tests (leading to k models), the validation set approach only performs each of those once, making it computationally less demanding than the former.\n",
        "\n",
        "<u>Comparing with Leave One Out Cross-Validation</u>:\n",
        "- Advantages:\n",
        "1. When it comes to *variance*, k-Fold CV yields lower values than those of LOOCV. Due to the nature of the LOOCV method, training data is highly correlated between itself, which may lead to test errors with a high variance.\n",
        "2. In regards to *computational demand*, k-Fold CV performs k trainings and tests, whereas LOOCV will perform these for each data point in our dataset. Thus, k-Fold CV has a lower computational demand, especially for large datasets.\n",
        "- Disadvantages:\n",
        "1. Concerning *bias*, the LOOCV method uses almost the entirety of the dataset for training, and, therefore, will have most of the observations, which means our model will be very close to that observed reality, leading to a lower bias. In contrast, the k-Fold CV will have a more biased result, since the training set size is not as large as those of the LOOCV."
      ]
    },
    {
      "cell_type": "markdown",
      "metadata": {
        "id": "jOcCUxFMpAGw"
      },
      "source": [
        "## Section 4 -- Other Questions"
      ]
    },
    {
      "cell_type": "markdown",
      "metadata": {
        "id": "jUkJU0D7pFWO"
      },
      "source": [
        "**6)** In your group's opinion, what are the advantages and disadvantages of using a virtual environment when programming in Python?"
      ]
    },
    {
      "cell_type": "markdown",
      "metadata": {
        "id": "4gyfaAIi9KVM"
      },
      "source": [
        "As an advantage, everyone works with the same libraries (on the same versions), which eliminates the problem of compatibility. As a disadvantage, distributing the virtual environment was not as easy, and ensuring each library was compatible with each other (version downgrading was necessary sometimes) was also a difficulty."
      ]
    },
    {
      "cell_type": "markdown",
      "metadata": {
        "id": "W8dWu7BXpFTc"
      },
      "source": [
        " **7)** In your group's opinion, in what circumstances is it better to use Jupyter Notebooks and when is it better to use Google Colab notebooks? Give some specific examples.\n"
      ]
    },
    {
      "cell_type": "markdown",
      "metadata": {
        "id": "rtVRKNrS9vYB"
      },
      "source": [
        "In our perspective, we would rather work with Jupyter Notebooks because, even though it's a platform without real time updating and the capacity of working simultaneously in the same file, it was the one with the least problems regarding file and library management.\n",
        "\n",
        "For example, the first time working with Google Colab, we had problems in running the code, not only because we didn't find out where to upload the dataset (searching for the content folder and finding out that the .csv file should not be in \\sample_data was a challenge), but also because, when using the library versions of Google Colab, we faced errors in running the code that were not present in Jupyter Notebooks (since we had direct control over the version of each library).\n",
        "\n",
        "Therefore, when there are no issues with library versions and file management is clear, using Google Colab may be a better idea. However, when specific library versions are required, Jupyter Notebooks comes out on top."
      ]
    },
    {
      "cell_type": "markdown",
      "metadata": {
        "id": "Sl0krfG6pFH6"
      },
      "source": [
        "**8)** Enter your GitHub repository webpage."
      ]
    },
    {
      "cell_type": "markdown",
      "metadata": {
        "id": "KHv9El4EfkBP"
      },
      "source": [
        "https://github.com/oseNATiO/Assignment-1\n",
        "(email rodrigo.j.amorim@tecnico.ulisboa.pt for access)"
      ]
    }
  ],
  "metadata": {
    "colab": {
      "provenance": []
    },
    "kernelspec": {
      "display_name": "Python 3 (ipykernel)",
      "language": "python",
      "name": "python3"
    },
    "language_info": {
      "codemirror_mode": {
        "name": "ipython",
        "version": 3
      },
      "file_extension": ".py",
      "mimetype": "text/x-python",
      "name": "python",
      "nbconvert_exporter": "python",
      "pygments_lexer": "ipython3",
      "version": "3.11.5"
    },
    "vscode": {
      "interpreter": {
        "hash": "98b9776bb1c906ffea5885633daef92fdfff9bdc53a036d784e355cfb10fec4f"
      }
    }
  },
  "nbformat": 4,
  "nbformat_minor": 0
}